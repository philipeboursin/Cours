{
 "cells": [
  {
   "cell_type": "markdown",
   "metadata": {},
   "source": [
    "**a.** Comme $x_i^3 = x_j^3 = 1$, on a $0 = x_i^3 - x_j^3 = (x_i - x_j)(x_i^2 + x_ix_j + x_j^2)$. Mais si $i$ et $j$ sont reliés, alors $x_i \\neq x_j$ et ainsi $x_i^2 + x_ix_j + x_j^2 = 0$."
   ]
  },
  {
   "cell_type": "markdown",
   "metadata": {},
   "source": [
    "**b.** Ok"
   ]
  },
  {
   "cell_type": "markdown",
   "metadata": {},
   "source": [
    "**c.**"
   ]
  },
  {
   "cell_type": "code",
   "execution_count": 20,
   "metadata": {},
   "outputs": [
    {
     "name": "stdout",
     "output_type": "stream",
     "text": [
      "[x1 + x6 + x7, x2 - x7, x3 - x7, x4 + x5 + x7, x5^2 + x5*x7 + x7^2, x6^2 + x6*x7 + x7^2, x7^3 - 1]\n",
      "12\n"
     ]
    }
   ],
   "source": [
    "var = ['x%i'%i for i in range(1,8)]\n",
    "A = PolynomialRing(QQ, var, order = 'lex')\n",
    "L1 = [m^3 - 1 for m in A.gens()]\n",
    "L = [(1,2), (1, 3), (1, 6), (2, 4), (2, 5), (3, 6), (4, 5), (4, 7), (5, 7), (6, 7)]\n",
    "L2 = [A.gens()[i - 1]^2 + A.gens()[i - 1]*A.gens()[j - 1] + A.gens()[j - 1]^2 for (i, j) in L]\n",
    "I = A.ideal(L1 + L2)\n",
    "G = I.groebner_basis()\n",
    "print(G)\n",
    "print(len(I.variety(CC)))"
   ]
  }
 ],
 "metadata": {
  "kernelspec": {
   "display_name": "SageMath 8.1",
   "language": "",
   "name": "sagemath"
  },
  "language_info": {
   "codemirror_mode": {
    "name": "ipython",
    "version": 2
   },
   "file_extension": ".py",
   "mimetype": "text/x-python",
   "name": "python",
   "nbconvert_exporter": "python",
   "pygments_lexer": "ipython2",
   "version": "2.7.15rc1"
  }
 },
 "nbformat": 4,
 "nbformat_minor": 2
}
