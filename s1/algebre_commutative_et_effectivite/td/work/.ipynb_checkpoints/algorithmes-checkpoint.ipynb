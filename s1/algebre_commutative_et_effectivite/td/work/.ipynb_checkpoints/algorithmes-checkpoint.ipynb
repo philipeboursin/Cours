{
 "cells": [
  {
   "cell_type": "markdown",
   "metadata": {},
   "source": [
    "**Algorithme de division multivariée**"
   ]
  },
  {
   "cell_type": "code",
   "execution_count": 1,
   "metadata": {},
   "outputs": [],
   "source": [
    "#Division multivariée\n",
    "def div_mult(f, L):\n",
    "    g = f\n",
    "    Q = [0 for i in range(len(L))]\n",
    "    R = 0\n",
    "    while g != 0:\n",
    "        b = True\n",
    "        i = 0\n",
    "        glm = g.lt()\n",
    "        while b and i < len(L):\n",
    "            Lilm = L[i].lt()\n",
    "            if glm % Lilm == 0:\n",
    "                g -= L[i]*(glm // Lilm)\n",
    "                Q[i] += glm // Lilm\n",
    "                b = False\n",
    "            i += 1\n",
    "        if b:\n",
    "            g -= glm\n",
    "            R += glm\n",
    "    return Q, R"
   ]
  },
  {
   "cell_type": "code",
   "execution_count": 2,
   "metadata": {},
   "outputs": [
    {
     "name": "stdout",
     "output_type": "stream",
     "text": [
      "([x1 + x2, 0], x2^2)\n"
     ]
    }
   ],
   "source": [
    "_.<x1,x2> = PolynomialRing(QQ, 2, order = 'lex')\n",
    "f = x1^2 + x1*x2 + x2^2\n",
    "L = [x1, x1 + x2]\n",
    "print(div_mult(f, L))"
   ]
  },
  {
   "cell_type": "markdown",
   "metadata": {},
   "source": [
    "**Algorithme de Buchberger**"
   ]
  },
  {
   "cell_type": "code",
   "execution_count": 3,
   "metadata": {},
   "outputs": [],
   "source": [
    "#siziji (?)\n",
    "def sfg(f, g):\n",
    "    A = f.parent()\n",
    "    inter = lcm(f.lm(), g.lm())\n",
    "    return A(f*inter/f.lt() - g*inter/g.lt())\n",
    "\n",
    "#Critère de Buchberger\n",
    "def is_grob(L):\n",
    "    b = True\n",
    "    for i in range(len(L)):\n",
    "        for j in range(i):\n",
    "            _,R = div_mult(sfg(L[i], L[j]), L)\n",
    "            b = b & (R == 0)\n",
    "    return b\n",
    "\n",
    "#Algorithme de Buchberger\n",
    "def grobner_basis(L):\n",
    "    b = True\n",
    "    while b:\n",
    "        b = False\n",
    "        G = copy(L)\n",
    "        for f in G:\n",
    "            for g in G:\n",
    "                _, r = div_mult(sfg(f, g), G)\n",
    "                if r != 0:\n",
    "                    L.append(r)\n",
    "                    b = True\n",
    "        L = list(set(L))\n",
    "    return L"
   ]
  },
  {
   "cell_type": "code",
   "execution_count": 4,
   "metadata": {},
   "outputs": [
    {
     "name": "stdout",
     "output_type": "stream",
     "text": [
      "f est dans I : True\n"
     ]
    }
   ],
   "source": [
    "G = grobner_basis(L)\n",
    "_,r = div_mult(f,G)\n",
    "print(\"f est dans I : \" + str(r == 0))"
   ]
  }
 ],
 "metadata": {
  "kernelspec": {
   "display_name": "SageMath 8.1",
   "language": "",
   "name": "sagemath"
  },
  "language_info": {
   "codemirror_mode": {
    "name": "ipython",
    "version": 2
   },
   "file_extension": ".py",
   "mimetype": "text/x-python",
   "name": "python",
   "nbconvert_exporter": "python",
   "pygments_lexer": "ipython2",
   "version": "2.7.15rc1"
  }
 },
 "nbformat": 4,
 "nbformat_minor": 2
}
