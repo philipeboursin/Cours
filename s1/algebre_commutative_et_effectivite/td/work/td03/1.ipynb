{
 "cells": [
  {
   "cell_type": "markdown",
   "metadata": {},
   "source": [
    "**Exercice 3.1**"
   ]
  },
  {
   "cell_type": "markdown",
   "metadata": {},
   "source": [
    "**1)**"
   ]
  },
  {
   "cell_type": "code",
   "execution_count": 35,
   "metadata": {},
   "outputs": [
    {
     "name": "stdout",
     "output_type": "stream",
     "text": [
      "Degree reverse lexicographic term order\n"
     ]
    }
   ],
   "source": [
    "A.<x,y> = PolynomialRing(QQ, 2)\n",
    "P = x*y^5 + 2*y^4 + 3*y^3*x^3 + 4*x^2*y^2 + 5*x*y^2 + 6*y*x^3 + 7*y\n",
    "print(A.term_order())"
   ]
  },
  {
   "cell_type": "markdown",
   "metadata": {},
   "source": [
    "**A_**"
   ]
  },
  {
   "cell_type": "code",
   "execution_count": 36,
   "metadata": {},
   "outputs": [
    {
     "name": "stdout",
     "output_type": "stream",
     "text": [
      "3*x^3*y^3 + 6*x^3*y + 4*x^2*y^2 + x*y^5 + 5*x*y^2 + 2*y^4 + 7*y\n",
      "Lexicographic term order\n",
      "3*x^3*y^3 + 6*x^3*y + 4*x^2*y^2 + x*y^5 + 5*x*y^2 + 2*y^4 + 7*y\n",
      "Lexicographic term order\n"
     ]
    }
   ],
   "source": [
    "B.<x,y> = PolynomialRing(QQ, 2, order='lex')\n",
    "print(B(P)) #\n",
    "print(B.term_order())\n",
    "#ou sinon\n",
    "A = A.change_ring(order = 'lex')\n",
    "print(A(P))\n",
    "print(A.term_order())"
   ]
  },
  {
   "cell_type": "markdown",
   "metadata": {},
   "source": [
    "**B_**"
   ]
  },
  {
   "cell_type": "code",
   "execution_count": 37,
   "metadata": {},
   "outputs": [
    {
     "name": "stdout",
     "output_type": "stream",
     "text": [
      "3*x^3*y^3 + x*y^5 + 6*x^3*y + 4*x^2*y^2 + 2*y^4 + 5*x*y^2 + 7*y\n"
     ]
    }
   ],
   "source": [
    "A = A.change_ring(order = 'deglex')\n",
    "print(A(P))"
   ]
  },
  {
   "cell_type": "markdown",
   "metadata": {},
   "source": [
    "**C_**"
   ]
  },
  {
   "cell_type": "code",
   "execution_count": 38,
   "metadata": {},
   "outputs": [
    {
     "name": "stdout",
     "output_type": "stream",
     "text": [
      "3*x^3*y^3 + x*y^5 + 6*x^3*y + 4*x^2*y^2 + 2*y^4 + 5*x*y^2 + 7*y\n"
     ]
    }
   ],
   "source": [
    "A = A.change_ring(order = 'degrevlex')\n",
    "print(A(P))"
   ]
  },
  {
   "cell_type": "markdown",
   "metadata": {},
   "source": [
    "**D_** "
   ]
  },
  {
   "cell_type": "markdown",
   "metadata": {},
   "source": [
    "Il suffit de vérifier que à norme fixée de multiexposant, les monômes sont ordonés de la même manière : considérons $(\\alpha, \\beta), (\\alpha', \\beta') \\in \\mathbb{N}^2$ tels que $\\alpha + \\beta = \\alpha' + \\beta'$. Alors $\\alpha \\geq \\alpha' \\iff \\beta \\leq \\beta'$, et ainsi l'ordre des deux monômes associés à ces couples sont les mêmes pour degrevlex ou deglex."
   ]
  },
  {
   "cell_type": "markdown",
   "metadata": {},
   "source": [
    "**2)**"
   ]
  },
  {
   "cell_type": "markdown",
   "metadata": {},
   "source": [
    "**A_**"
   ]
  },
  {
   "cell_type": "code",
   "execution_count": 42,
   "metadata": {},
   "outputs": [
    {
     "name": "stdout",
     "output_type": "stream",
     "text": [
      "x^3*z^2*t^2 + x^2*y*z^3*t + x^2*y*z^2*t + x*y^3*z*t\n"
     ]
    }
   ],
   "source": [
    "A.<x,y,z,t> = PolynomialRing(QQ, 4, order=\"deglex\")\n",
    "P = x*y^3*z*t + x^2*y*z^3*t + x^2*y*z^2*t + x^3*z^2*t^2\n",
    "print(P)"
   ]
  },
  {
   "cell_type": "markdown",
   "metadata": {},
   "source": [
    "**B_**"
   ]
  },
  {
   "cell_type": "code",
   "execution_count": 44,
   "metadata": {},
   "outputs": [
    {
     "name": "stdout",
     "output_type": "stream",
     "text": [
      "x^2*y*z^3*t + x^3*z^2*t^2 + x*y^3*z*t + x^2*y*z^2*t\n"
     ]
    }
   ],
   "source": [
    "A = A.change_ring(order = 'degrevlex')\n",
    "print(A(P))"
   ]
  }
 ],
 "metadata": {
  "kernelspec": {
   "display_name": "SageMath 8.1",
   "language": "",
   "name": "sagemath"
  },
  "language_info": {
   "codemirror_mode": {
    "name": "ipython",
    "version": 2
   },
   "file_extension": ".py",
   "mimetype": "text/x-python",
   "name": "python",
   "nbconvert_exporter": "python",
   "pygments_lexer": "ipython2",
   "version": "2.7.15rc1"
  }
 },
 "nbformat": 4,
 "nbformat_minor": 2
}
