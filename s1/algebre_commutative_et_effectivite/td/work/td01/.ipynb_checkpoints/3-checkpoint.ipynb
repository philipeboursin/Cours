{
 "cells": [
  {
   "cell_type": "markdown",
   "metadata": {},
   "source": [
    "**Exercice 1.3**"
   ]
  },
  {
   "cell_type": "code",
   "execution_count": 5,
   "metadata": {},
   "outputs": [],
   "source": [
    "_.<x> = ZZ[]\n",
    "P = x^7 + x^5 + 2*x^3 + 2*x^2 + 3*x + 2"
   ]
  },
  {
   "cell_type": "markdown",
   "metadata": {},
   "source": [
    "**1)** Factorisation dans $\\mathbb{F}_2$ et $\\mathbb{F}_7$"
   ]
  },
  {
   "cell_type": "code",
   "execution_count": 6,
   "metadata": {},
   "outputs": [
    {
     "name": "stdout",
     "output_type": "stream",
     "text": [
      "x * (x^3 + x^2 + 1)^2\n",
      "(x + 4) * (x^6 + 3*x^5 + 3*x^4 + 2*x^3 + x^2 + 5*x + 4)\n"
     ]
    }
   ],
   "source": [
    "F2.<x> = GF(2)[]\n",
    "print(F2(P).factor())\n",
    "F7.<x> = GF(7)[]\n",
    "print(F7(P).factor())"
   ]
  },
  {
   "cell_type": "markdown",
   "metadata": {},
   "source": [
    "**2)** Supposons que $P$ est réductible, que l'on écrit $P = AB$ dans $\\mathbb{Z}[X]$. Remarquons que la seule combinaison de degrés possible pour $A$ et $B$ est un de degré $1$ et l'autre de degré $6$, au vu de la réduction modulo $7$. Ainsi sans perte de généralisté supposons que $\\mathrm{deg}(A) = 1$, on écrit donc $A = ax + b$ avec $a,b \\in \\mathbb{Z}$. Alors au vu de la factorisation de $P$ dans $\\mathbb{Z}/2\\mathbb{Z}$, la réduction modulo $2$ de $A$ doit être $x$ (encore en regardant le degré). Mais alors on obtiens deux système de congruences\n",
    "\\begin{align*}\n",
    "    a[7] = 1[7] \\\\\n",
    "    a[2] = 1[2] \\\\\n",
    "\\end{align*}\n",
    "et \n",
    "\\begin{align*}\n",
    "    b[7] = 4[7] \\\\\n",
    "    b[2] = 0[2] \\\\\n",
    "\\end{align*}\n",
    "Remarquons alors que $b = 4$ est solution du deuxième système, donc $b[14] = 4[14]$ au vu du théorème des restes chinois. Ainsi il existe $k \\in \\mathbb{Z}$ tel que $b = 4 + 14k$, et de plus $b$ doit diviser le terme constant de $P$ qui vaut $2$, contradiction. Ainsi $P$ est irréductible."
   ]
  },
  {
   "cell_type": "markdown",
   "metadata": {},
   "source": [
    "**3)**"
   ]
  },
  {
   "cell_type": "code",
   "execution_count": 7,
   "metadata": {},
   "outputs": [
    {
     "name": "stdout",
     "output_type": "stream",
     "text": [
      "P est irréductible ?\n",
      "True\n"
     ]
    }
   ],
   "source": [
    "print(\"P est irréductible ?\")\n",
    "print(P.is_irreducible())"
   ]
  }
 ],
 "metadata": {
  "kernelspec": {
   "display_name": "SageMath 8.1",
   "language": "",
   "name": "sagemath"
  },
  "language_info": {
   "codemirror_mode": {
    "name": "ipython",
    "version": 2
   },
   "file_extension": ".py",
   "mimetype": "text/x-python",
   "name": "python",
   "nbconvert_exporter": "python",
   "pygments_lexer": "ipython2",
   "version": "2.7.15rc1"
  }
 },
 "nbformat": 4,
 "nbformat_minor": 2
}
