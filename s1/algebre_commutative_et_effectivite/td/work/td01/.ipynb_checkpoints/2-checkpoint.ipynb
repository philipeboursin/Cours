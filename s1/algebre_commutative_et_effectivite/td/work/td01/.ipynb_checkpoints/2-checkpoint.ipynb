{
 "cells": [
  {
   "cell_type": "markdown",
   "metadata": {},
   "source": [
    "**Exercice 1.2**"
   ]
  },
  {
   "cell_type": "code",
   "execution_count": 14,
   "metadata": {},
   "outputs": [],
   "source": [
    "_.<x> = ZZ[]\n",
    "P = x^11 + x^10 + x^9 + 2*x^8 + 2*x^6 + 2*x^4 + x^3 + x^2 + x"
   ]
  },
  {
   "cell_type": "markdown",
   "metadata": {},
   "source": [
    "**1)** Factorisation de $P$ dans $\\mathbb{Z}[x]$"
   ]
  },
  {
   "cell_type": "code",
   "execution_count": 15,
   "metadata": {},
   "outputs": [
    {
     "name": "stdout",
     "output_type": "stream",
     "text": [
      "x * (x^2 + 1) * (x^2 + x + 1) * (x^6 - x^4 + 2*x^3 - x^2 + 1)\n"
     ]
    }
   ],
   "source": [
    "print(factor(P))"
   ]
  },
  {
   "cell_type": "markdown",
   "metadata": {},
   "source": [
    "**2)** Factorisation de $P$ dans $\\mathbb{Z}[i][x]$ et $\\mathbb{}[i][x]$"
   ]
  },
  {
   "cell_type": "code",
   "execution_count": 16,
   "metadata": {},
   "outputs": [
    {
     "name": "stdout",
     "output_type": "stream",
     "text": [
      "L'algorithme n'est pas implémenté dans le premier cas\n",
      "(x - I) * x * (x + I) * (x^2 + x + 1) * (x^6 - x^4 + 2*x^3 - x^2 + 1)\n"
     ]
    }
   ],
   "source": [
    "A.<x> = ZZ[i][]\n",
    "try :\n",
    "    print(A(P).factor()) #Algorithme de factorisation non implémenté\n",
    "except NotImplementedError:\n",
    "    print(\"L'algorithme n'est pas implémenté dans le premier cas\")\n",
    "\n",
    "A.<x> = QQ[i][]\n",
    "print(A(P).factor())"
   ]
  },
  {
   "cell_type": "markdown",
   "metadata": {},
   "source": [
    "**3)** Factorisation de $P$ dans $\\mathbb{F}_2[x]$"
   ]
  },
  {
   "cell_type": "code",
   "execution_count": 17,
   "metadata": {},
   "outputs": [
    {
     "name": "stdout",
     "output_type": "stream",
     "text": [
      "x * (x + 1)^8 * (x^2 + x + 1)\n"
     ]
    }
   ],
   "source": [
    "A.<x> = GF(2)[]\n",
    "print(A(P).factor())"
   ]
  },
  {
   "cell_type": "markdown",
   "metadata": {},
   "source": [
    "**4)** Factorisation de $P$ dans $\\mathbb{F}_4[x]$"
   ]
  },
  {
   "cell_type": "code",
   "execution_count": 18,
   "metadata": {},
   "outputs": [
    {
     "name": "stdout",
     "output_type": "stream",
     "text": [
      "x * (x + z2) * (x + z2 + 1) * (x + 1)^8\n"
     ]
    }
   ],
   "source": [
    "A.<x> = GF(4)[]\n",
    "print(A(P).factor())"
   ]
  }
 ],
 "metadata": {
  "kernelspec": {
   "display_name": "SageMath 8.1",
   "language": "",
   "name": "sagemath"
  },
  "language_info": {
   "codemirror_mode": {
    "name": "ipython",
    "version": 2
   },
   "file_extension": ".py",
   "mimetype": "text/x-python",
   "name": "python",
   "nbconvert_exporter": "python",
   "pygments_lexer": "ipython2",
   "version": "2.7.15rc1"
  }
 },
 "nbformat": 4,
 "nbformat_minor": 2
}
