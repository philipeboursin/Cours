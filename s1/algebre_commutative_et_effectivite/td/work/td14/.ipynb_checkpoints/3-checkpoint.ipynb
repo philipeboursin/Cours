{
 "cells": [
  {
   "cell_type": "markdown",
   "metadata": {},
   "source": [
    "**Exercice 3**"
   ]
  },
  {
   "cell_type": "markdown",
   "metadata": {},
   "source": [
    "On connaît une bdG marquée $G_{old}$ pour un ordre $>_{Mold}$ et on cherche à calculer la bdg marquée opur $>_t$ l'ordre visé. On note $w_{old}$ la première ligne de $M_{old}$. Soit le segment de ligne reliant $w_{old}$ à $w_t$\n",
    "\\begin{align*}\n",
    "    (1 - u)w_{old} + uw_t,\\, u \\in [0,1]\n",
    "\\end{align*}\n",
    "Notons $G_{old} = \\{x^{\\alpha(i)} + \\sum_{i, \\beta} c_{i,\\beta}x^\\beta \\mid 1 \\leq i \\leq t\\}$. On note $v_i = \\alpha(i) = \\beta$, pour tout $1 \\leq i \\leq t$ et $c_{i,\\beta} \\neq 0$. Fnalement, on note $u_{last}$ le premier $u$ tel que $w_{new} = (1 - u_{last})w_{old} + u_{last}w_{new}$. Décrivons l'algorithme pour calculer $u_{last}$ :"
   ]
  },
  {
   "cell_type": "raw",
   "metadata": {},
   "source": [
    "Entrées : w_old, w_t, v_1, \\cdots, v_t\n",
    "Sortie : u_last\n",
    "Algorithme :\n",
    "\n",
    "u_last <- 1:\n",
    "for 1 <= j <= t:\n",
    "    if w_t.v_1 < 0:\n",
    "        u_j <- (w_old.v_j)/(w_old.v_j - w_tv_j);\n",
    "    if u_j < ulast:\n",
    "        u_last <- u_j;\n",
    "return u_last"
   ]
  },
  {
   "cell_type": "markdown",
   "metadata": {},
   "source": [
    "Idée derrière l'algorithme est que le point $(1 - u)w_{old} + uw_{new} \\in C_{old}$ si et seulement si $a = (1 - u)w_{old} \\cdot v_j + u(W_t \\cdot v_j) \\geq 0$.\n",
    "- Si $w_tv_j \\geq 0$, alors $a \\geq 0$ pour tout $u \\in [0,1]$ \\\\\n",
    "- Si $w_tv_j < 0$, alors on prend $u_j$ la plus grande valeur pour ce $j$ particulier tel que $(1 - u_j)(w_{old} - v_j) + u_j(w_t v_j) = 0$."
   ]
  },
  {
   "cell_type": "markdown",
   "metadata": {},
   "source": [
    "$I = \\langle x^2 + y^2 - 1, x + 2y \\rangle$. On avait calculé pour l'exercice 1 une base de grobner : $G_{old} = \\{x + 2y, y^2 - 1/5\\}$. On veut aller vers l'ordre lexicographique avec $y > x$, ainsi les matrices sont \n",
    "\\begin{align*}\n",
    "    M_{old} = \\begin{bmatrix} 1 & 0 \\\\ 0 & 1 \\end{bmatrix},\\, M_{old} = \\begin{bmatrix} 0 & 1 \\\\ 1 & 0 \\end{bmatrix},\\, w_{old} = \\begin{bmatrix} 1,0 \\end{bmatrix},\\, w_t = \\begin{bmatrix} 0, 1 \\end{bmatrix}\n",
    "\\end{align*}\n",
    "- $x + 2y \\Rightarrow v_1 = (1, 0) - (0, 1) = (1, -1)$ et donc $w_t \\cdot v_1 = -1 < 0$.\n",
    "- $y^2 - 1/5 \\Rightarrow v_2 = (0, 2) - (0, 0) = (0, 2)$ et donc $w_t \\cdot v_2 = 2 > 0$.\n",
    "On réalise l'algorithme précédent : $u_1 = 1/2$, et donc $u_{last} = 1/2$, et finalement on trouve que $w_{new} = 1/2(1, 0) + 1/2(0, 1) = (1/2, 1/2)$"
   ]
  },
  {
   "cell_type": "markdown",
   "metadata": {},
   "source": [
    "Rappels sur la nitions de $w$-poids :\n",
    "Soit $w = (w_1, \\cdots, w_n) \\in \\mathbb{R}^n_+ $ et soit $t = \\alpha x^i$ un terme dans $k[x_1, \\cdots, x_n]$. Le $w$ poids de $t$ est donné par $i \\cdot w$. Pour un polynôme $f \\neq 0$, on définit $in_w(f)$ la somme de ses termes de $w$-poids maximal."
   ]
  },
  {
   "cell_type": "code",
   "execution_count": null,
   "metadata": {},
   "outputs": [],
   "source": []
  }
 ],
 "metadata": {
  "kernelspec": {
   "display_name": "SageMath 8.1",
   "language": "",
   "name": "sagemath"
  },
  "language_info": {
   "codemirror_mode": {
    "name": "ipython",
    "version": 2
   },
   "file_extension": ".py",
   "mimetype": "text/x-python",
   "name": "python",
   "nbconvert_exporter": "python",
   "pygments_lexer": "ipython2",
   "version": "2.7.15rc1"
  }
 },
 "nbformat": 4,
 "nbformat_minor": 2
}
