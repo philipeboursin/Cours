{
 "cells": [
  {
   "cell_type": "markdown",
   "metadata": {},
   "source": [
    "**Exercice 3**"
   ]
  },
  {
   "cell_type": "markdown",
   "metadata": {},
   "source": [
    "**1.** On connaît une bdG marquée $G_{old}$ pour un ordre $>_{Mold}$ et on cherche à calculer la bdg marquée opur $>_t$ l'ordre visé. On note $w_{old}$ la première ligne de $M_{old}$. Soit le segment de ligne reliant $w_{old}$ à $w_t$\n",
    "\\begin{align*}\n",
    "    (1 - u)w_{old} + uw_t,\\, u \\in [0,1]\n",
    "\\end{align*}\n",
    "Notons $G_{old} = \\{x^{\\alpha(i)} + \\sum_{i, \\beta} c_{i,\\beta}x^\\beta \\mid 1 \\leq i \\leq t\\}$. On note $v_i = \\alpha(i) = \\beta$, pour tout $1 \\leq i \\leq t$ et $c_{i,\\beta} \\neq 0$. Fnalement, on note $u_{last}$ le premier $u$ tel que $w_{new} = (1 - u_{last})w_{old} + u_{last}w_{new}$. Décrivons l'algorithme pour calculer $u_{last}$ :"
   ]
  },
  {
   "cell_type": "raw",
   "metadata": {},
   "source": [
    "Entrées : w_old, w_t, v_1, \\cdots, v_t\n",
    "Sortie : u_last\n",
    "Algorithme :\n",
    "\n",
    "u_last <- 1:\n",
    "for 1 <= j <= t:\n",
    "    if w_t.v_j < 0:\n",
    "        u_j <- (w_old.v_j)/(w_old.v_j - w_tv_j);\n",
    "    if u_j < ulast:\n",
    "        u_last <- u_j;\n",
    "return u_last;"
   ]
  },
  {
   "cell_type": "markdown",
   "metadata": {},
   "source": [
    "L'idée derrière l'algorithme est que le point $(1 - u)w_{old} + uw_{new} \\in C_{old}$ si et seulement si $a = (1 - u)w_{old} \\cdot v_j + u(W_t \\cdot v_j) \\geq 0$.\n",
    "- Si $w_tv_j \\geq 0$, alors $a \\geq 0$ pour tout $u \\in [0,1]$ \\\\\n",
    "- Si $w_tv_j < 0$, alors on prend $u_j$ la plus grande valeur pour ce $j$ particulier tel que $(1 - u_j)(w_{old} - v_j) + u_j(w_t v_j) = 0$."
   ]
  },
  {
   "cell_type": "markdown",
   "metadata": {},
   "source": [
    "$I = \\langle x^2 + y^2 - 1, x + 2y \\rangle$. On avait calculé pour l'exercice 1 une base de grobner : $G_{old} = \\{x + 2y, y^2 - 1/5\\}$. On veut aller vers l'ordre lexicographique avec $y > x$, ainsi les matrices sont \n",
    "\\begin{align*}\n",
    "    M_{old} = \\begin{bmatrix} 1 & 0 \\\\ 0 & 1 \\end{bmatrix},\\, M_t = \\begin{bmatrix} 0 & 1 \\\\ 1 & 0 \\end{bmatrix},\\, w_{old} = \\begin{bmatrix} 1,0 \\end{bmatrix},\\, w_t = \\begin{bmatrix} 0, 1 \\end{bmatrix}\n",
    "\\end{align*}\n",
    "- $x + 2y \\Rightarrow v_1 = (1, 0) - (0, 1) = (1, -1)$ et donc $w_t \\cdot v_1 = -1 < 0$.\n",
    "- $y^2 - 1/5 \\Rightarrow v_2 = (0, 2) - (0, 0) = (0, 2)$ et donc $w_t \\cdot v_2 = 2 > 0$.\n",
    "On réalise l'algorithme précédent : $u_1 = 1/2$, et donc $u_{last} = 1/2$, et finalement on trouve que $w_{new} = 1/2(1, 0) + 1/2(0, 1) = (1/2, 1/2)$"
   ]
  },
  {
   "cell_type": "markdown",
   "metadata": {},
   "source": [
    "Rappels sur la nitions de $w$-poids :\n",
    "Soit $w = (w_1, \\cdots, w_n) \\in \\mathbb{R}^n_+ $ et soit $t = \\alpha x^i$ un terme dans $k[x_1, \\cdots, x_n]$. Le $w$ poids de $t$ est donné par $i \\cdot w$. Pour un polynôme $f \\neq 0$, on définit $in_w(f)$ la somme de ses termes de $w$-poids maximal. "
   ]
  },
  {
   "cell_type": "markdown",
   "metadata": {},
   "source": [
    "Dans l'exercice, $in_{w_{new}}(G_{old}) = in_{(1/2, 1/2)}(x + 2y, y^2 - 1/5) = \\{x + 2y, y^2\\}$.\n",
    "Maintenant on calcule la base de Groebner $H$ de l'idéal généra par $in_{new}(G_{old})$ pour l'ordre donné par $\\begin{bmatrix} w_{new} \\\\ M_t \\end{bmatrix} = \\begin{bmatrix} 1/2 & 1/2 \\\\ 0 & 1 \\end{bmatrix}$. Cette base vaut $H = \\{y + 1/2x, x^2\\}$. \n",
    "- On écrit chaque polynôme $h_j$ de $H$ comme \n",
    "\\begin{align*}\n",
    "    h_j = \\sum_{g \\in G_{old}} P_{j,g} in_{w_{new}}(g)\n",
    "\\end{align*}\n",
    "Dans notre cas, cela donne \n",
    "\\begin{align*}\n",
    "    y + 1/2x &= 1/2(x + 2y) + 0 \\\\\n",
    "    x^2 &= (x - 2y)(x + 2y) + 4y^2 \\\\\n",
    "\\end{align*}\n",
    "On calcule maintenant pour tout $j$ \n",
    "\\begin{align*}\n",
    "    \\bar h_j = \\sum_{g \\in G_{old}} P_{j,g} g\n",
    "\\end{align*}\n",
    "Ainsi dans notre cas on obtient $\\bar h_1 = 1/2(x + 2y) = x/2 + y$, $\\bar h_2 = (x - 2y)(x + 2y) + 4(y^2 - 1/5) = x^2 - 4/5$. Finalement, $G_{new} = \\{y + x/2, x^2 - 4/5\\}$ est la base de Groebner qu'on cherche pour l'ordre lex avec $y > x$."
   ]
  },
  {
   "cell_type": "markdown",
   "metadata": {},
   "source": [
    "**2.** $I = \\langle x^3 - y, x + y^3 + 1 \\rangle$. On avait vu que l'évantail de Groebner était composé de $3$ cônes, il va falloir faire deux fois la procédure réalisée à la question 1. Les $M_{old}$, $M_t$, $w_{old}$ et $w_t$ restent inchangés par rapport à la question précédente. On avait calculé $G_{old}$ dans l'exercice 1 : $G_{old} = \\{x + y^3 + 1, y^9 + 3y^6 + 3y^3 + y + 1\\}$. Ainsi \n",
    "\n",
    "- $x + y^3 + 1 \\Rightarrow v_1 = (1, 0) - (0, 3) - (0, 0) = (1, -3)$, $w_t \\cdot v_1 = -3 < 0$\n",
    "- $y^9 + 3y^6 \\Rightarrow v_2 = (0, 9) - (0, 6) = (0, 3)$, $w_t \\cdot v_2 = 3 > 0$\n",
    "\n",
    "Ainsi $u_1 = 1/(1 + 3) = 1/4$, et ainsi $w_{new} = (3/4, 1/4)$. Calculons maintenant $in_{w_{new}}(G_{old}) = in_{(3/4, 1/4)}(G_{old}) = \\{x + y^3, y^9\\}$. Il faut ensuite calculer la base de Grobner $H$ de l'idéal engendré par $in_{w_{new}}(G_{old})$ pour l'ordre $\\begin{bmatrix} w_{new} \\\\ M_t \\end{bmatrix} = \\begin{bmatrix} 3 & 1 \\\\ 0 & 1 \\end{bmatrix}$"
   ]
  },
  {
   "cell_type": "code",
   "execution_count": 1,
   "metadata": {},
   "outputs": [
    {
     "data": {
      "text/plain": [
       "[x^3, y^3 + x]"
      ]
     },
     "execution_count": 1,
     "metadata": {},
     "output_type": "execute_result"
    }
   ],
   "source": [
    "m = matrix(2, [3,1,0,1])\n",
    "T = TermOrder(m)\n",
    "A.<x,y> = PolynomialRing(QQ, order = T)\n",
    "I = A.ideal(x + y^3, y^9)\n",
    "I.groebner_basis()"
   ]
  },
  {
   "cell_type": "markdown",
   "metadata": {},
   "source": [
    "On trouve $H = \\{x + y^3, x^3\\}$. Il faut exprimer les générateurs en fonction de $H$ :\n",
    "\\begin{align*}\n",
    "    y^3 + x &= 1(x + y^3) + 0 \\\\\n",
    "    x^3 &= (y^6 - xy^3 + x^2)(x + y^3) - y^9 \\\\\n",
    "\\end{align*}"
   ]
  },
  {
   "cell_type": "code",
   "execution_count": 8,
   "metadata": {},
   "outputs": [
    {
     "data": {
      "text/plain": [
       "[1, 0]"
      ]
     },
     "execution_count": 8,
     "metadata": {},
     "output_type": "execute_result"
    }
   ],
   "source": [
    "f = y^3 + x\n",
    "f.lift(I.gens())"
   ]
  },
  {
   "cell_type": "code",
   "execution_count": 9,
   "metadata": {},
   "outputs": [
    {
     "data": {
      "text/plain": [
       "[y^6 - x*y^3 + x^2, -1]"
      ]
     },
     "execution_count": 9,
     "metadata": {},
     "output_type": "execute_result"
    }
   ],
   "source": [
    "f = x^3\n",
    "f.lift(I.gens())"
   ]
  },
  {
   "cell_type": "markdown",
   "metadata": {},
   "source": [
    "Finalement, \n",
    "\\begin{align*}\n",
    "    \\bar h_1 &= x + y^3 + 1 \\\\\n",
    "    \\bar h_2 &= x^3 - 2y^6 - xy^3 + x^2 - 3y^3 - y - 1 \\\\\n",
    "\\end{align*}"
   ]
  },
  {
   "cell_type": "code",
   "execution_count": 13,
   "metadata": {},
   "outputs": [
    {
     "data": {
      "text/plain": [
       "[x^3 - y, y^3 + x + 1]"
      ]
     },
     "execution_count": 13,
     "metadata": {},
     "output_type": "execute_result"
    }
   ],
   "source": [
    "J = A.ideal(x + y^3 + 1, x^3 - 2*y^6 - x*y^3 + x^2 - 3*y^3 - y - 1)\n",
    "J.interreduced_basis()"
   ]
  },
  {
   "cell_type": "markdown",
   "metadata": {},
   "source": [
    "On réitère : $M_{old} = \\begin{bmatrix} 3 & 1 \\\\ 0 & 1 \\end{bmatrix}$, $G_{old} = \\{x^3 - y, y^3 + x + 1\\}$, $w_{old} = (3, 1)$.\n",
    "\n",
    "- $x^3 - y \\Rightarrow v_1 = (3, -1)$, $w_tv_1 = -1 < 0$\n",
    "- $y^3 + x + 1 \\Rightarrow v_2 = (-1, 3)$, $w_tv_2 = 3 > 0$.\n",
    "\n",
    "Ainsi on trouve $u_1 = 8/9$ et donc $u_{last} = 8/9$, et donc $u_{last} = (1/3, 1/9) + (0, 8/9) = (1/3, 1)$. On calcule $in_{w_{new}}(G_{old}) = \\{x^3 - y, y^3\\}$. On en calcule une base de Groebner pour l'ordre $\\begin{bmatrix} 3 & 1 \\\\ 0 & 1 \\end{bmatrix}$ :"
   ]
  },
  {
   "cell_type": "code",
   "execution_count": 16,
   "metadata": {},
   "outputs": [
    {
     "data": {
      "text/plain": [
       "[x^9, y - x^3]"
      ]
     },
     "execution_count": 16,
     "metadata": {},
     "output_type": "execute_result"
    }
   ],
   "source": [
    "m = matrix(2, [1, 3, 0, 1])\n",
    "T = TermOrder(m)\n",
    "A = A.change_ring(order = T)\n",
    "I = A.ideal(x^3 - y, y^3)\n",
    "I.groebner_basis()"
   ]
  },
  {
   "cell_type": "markdown",
   "metadata": {},
   "source": [
    "On trouve $H = \\{x^9, y - x^3\\}$. Exprimons ces éléments selon les générateurs de l'idéal"
   ]
  },
  {
   "cell_type": "code",
   "execution_count": 18,
   "metadata": {},
   "outputs": [
    {
     "data": {
      "text/plain": [
       "[x^6 + x^3*y + y^2, 1]"
      ]
     },
     "execution_count": 18,
     "metadata": {},
     "output_type": "execute_result"
    }
   ],
   "source": [
    "f = x^9\n",
    "f.lift(I.gens())"
   ]
  },
  {
   "cell_type": "code",
   "execution_count": 19,
   "metadata": {},
   "outputs": [
    {
     "data": {
      "text/plain": [
       "[1, 0]"
      ]
     },
     "execution_count": 19,
     "metadata": {},
     "output_type": "execute_result"
    }
   ],
   "source": [
    "f = x^3 - y\n",
    "f.lift(I.gens())"
   ]
  },
  {
   "cell_type": "markdown",
   "metadata": {},
   "source": [
    "On calcule finalement le $\\bar h_i$ :\n",
    "\\begin{align*}\n",
    "    \\bar h_1 &= (y^2 + x^3y + x^6)(x^3 - y) + (y^3 + x + 1) = x^9 + x + 1 \\\\\n",
    "    \\bar h_2 &= y - x^3\n",
    "\\end{align*}\n",
    "Cette base est réduite, et ainsi $G_{new} = \\{x^9 + x + 1, y - x^3\\}$ est une base de Groebner pour l'ordre lex avec $y > x$."
   ]
  }
 ],
 "metadata": {
  "kernelspec": {
   "display_name": "SageMath 8.1",
   "language": "",
   "name": "sagemath"
  },
  "language_info": {
   "codemirror_mode": {
    "name": "ipython",
    "version": 2
   },
   "file_extension": ".py",
   "mimetype": "text/x-python",
   "name": "python",
   "nbconvert_exporter": "python",
   "pygments_lexer": "ipython2",
   "version": "2.7.15rc1"
  }
 },
 "nbformat": 4,
 "nbformat_minor": 2
}
