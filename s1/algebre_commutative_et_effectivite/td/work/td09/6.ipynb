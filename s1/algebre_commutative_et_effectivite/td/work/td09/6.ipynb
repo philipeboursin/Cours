{
 "cells": [
  {
   "cell_type": "markdown",
   "metadata": {},
   "source": [
    "**Exercice 6**"
   ]
  },
  {
   "cell_type": "code",
   "execution_count": 5,
   "metadata": {},
   "outputs": [
    {
     "name": "stdout",
     "output_type": "stream",
     "text": [
      "[h^2 + t^2 - a^2, h*D + 1/4*t*a^2 - 1/4*t*c^2 - 3/8*a^2*b + 1/8*b^3 - 1/8*b*c^2, h*a^2 - h*c^2 - 4*t*D + 2*D*b, h*b - 2*D, t*b - 1/2*a^2 - 1/2*b^2 + 1/2*c^2, D^2 + 1/16*a^4 - 1/8*a^2*b^2 - 1/8*a^2*c^2 + 1/16*b^4 - 1/8*b^2*c^2 + 1/16*c^4]\n"
     ]
    },
    {
     "data": {
      "text/plain": [
       "(1/16) * (-a + b - c) * (-a + b + c) * (a + b - c) * (a + b + c)"
      ]
     },
     "execution_count": 5,
     "metadata": {},
     "output_type": "execute_result"
    }
   ],
   "source": [
    "A.<h,t,D,a,b,c> = PolynomialRing(QQ, order = 'lex')\n",
    "\n",
    "f1 = D - h*b/2\n",
    "f2 = a^2 - h^2 - t^2\n",
    "f3 = c^2 - h^2 - (b - t)^2\n",
    "\n",
    "I = A.ideal(f1, f2, f3)\n",
    "G = I.groebner_basis()\n",
    "print(G)\n",
    "f = G[-1]\n",
    "(f - D^2).factor()"
   ]
  },
  {
   "cell_type": "markdown",
   "metadata": {},
   "source": [
    "La formule doit être $D = \\frac14 \\sqrt{(-a + b - c)(-a + b + c)(a + b - c)(a + b + c)}$"
   ]
  }
 ],
 "metadata": {
  "kernelspec": {
   "display_name": "SageMath 8.1",
   "language": "",
   "name": "sagemath"
  },
  "language_info": {
   "codemirror_mode": {
    "name": "ipython",
    "version": 2
   },
   "file_extension": ".py",
   "mimetype": "text/x-python",
   "name": "python",
   "nbconvert_exporter": "python",
   "pygments_lexer": "ipython2",
   "version": "2.7.15rc1"
  }
 },
 "nbformat": 4,
 "nbformat_minor": 2
}
