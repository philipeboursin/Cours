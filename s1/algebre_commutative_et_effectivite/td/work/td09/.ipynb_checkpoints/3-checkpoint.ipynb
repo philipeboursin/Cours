{
 "cells": [
  {
   "cell_type": "markdown",
   "metadata": {},
   "source": [
    "**Exercice 3**"
   ]
  },
  {
   "cell_type": "markdown",
   "metadata": {},
   "source": [
    "**1.** Montrons que les solutions de\n",
    "\\begin{align*}\n",
    "    \\begin{cases}\n",
    "        A(X) = 0 \\\\\n",
    "        B(Y - X) = 0 \\\\\n",
    "    \\end{cases}\n",
    "\\end{align*}\n",
    "sont de la forme $(r_1, r_1 + r_2)$ avec $r_1$ racine de $A$ et $r_2$ racine de $B$. Supposons que $(x,y)$ est solution, alors $B(y - x) = 0$ et $A(x) = 0$, donc $x$ est racine de $A$ et $y - x$ est racine de $B$, et alors $y = x + (y - x)$ est une somme d'une racine de $B$ et de $A$. Réciproquement, considérons le couple $(r_1, r_1 + r_2)$ avec $r_1$ racine de $A$ et $r_2$ racine de $B$, alors $A(r_1) = 0$ et $B(r_1 + r_2 - r_1) = B(r_2) = 0$ et donc ce couple est solution. Ainsi pour trouver un polynôme qui annule toutes les sommes de racines de $A$ et de $B$, on calcule une base de Groebner $G = \\{g_i\\}$ de $(A,B)$ pour l'ordre lexixographique $x > y$. Alors $(x,y)$ est solution du système si et seulement si $(x,y)$ est solution du système définit par les éléments de $G$. Mais comme on a choisit l'ordre lexicographique, la bdg va se décomposer en deux parties, une ayant des polynômes en $X$ et $Y$, et l'autre seulement en $Y$. Par ailleurs, remarquons qu'il ne doit y avoir qu'un seul polynôme $P \\in k[Y]$ en $Y$ si la base est réduite (ce qui est le cas lors du calcul en sage). Mais alors $(x,y)$ solution du système ssi $(x, y) = (r_1, r_1 + r_2)$ avec $r_1$ racine de $A$, $r_2$ racine de $B$ ssi $g_i(r_1, r_1 + r_2) = 0$ pour tout $i$. Mais alors $r_1 + r_2$ est racine de $P$. Ici peut être que prendre $P$, mais il faut vérifier qu'il ne peut pas admettre aussi plus de racines."
   ]
  },
  {
   "cell_type": "markdown",
   "metadata": {},
   "source": [
    "**2.**"
   ]
  },
  {
   "cell_type": "code",
   "execution_count": 8,
   "metadata": {},
   "outputs": [
    {
     "name": "stdout",
     "output_type": "stream",
     "text": [
      "y^6 - 6*y^4 - 14*y^3 + 12*y^2 - 84*y + 41\n"
     ]
    }
   ],
   "source": [
    "A.<x, y> = PolynomialRing(QQ, order = 'lex')\n",
    "a = x^2 - 2\n",
    "b = (y - x)^3 - 7\n",
    "I = A.ideal(a, b)\n",
    "print(I.elimination_ideal(x).gens()[0])"
   ]
  }
 ],
 "metadata": {
  "kernelspec": {
   "display_name": "SageMath 8.1",
   "language": "",
   "name": "sagemath"
  },
  "language_info": {
   "codemirror_mode": {
    "name": "ipython",
    "version": 2
   },
   "file_extension": ".py",
   "mimetype": "text/x-python",
   "name": "python",
   "nbconvert_exporter": "python",
   "pygments_lexer": "ipython2",
   "version": "2.7.15rc1"
  }
 },
 "nbformat": 4,
 "nbformat_minor": 2
}
