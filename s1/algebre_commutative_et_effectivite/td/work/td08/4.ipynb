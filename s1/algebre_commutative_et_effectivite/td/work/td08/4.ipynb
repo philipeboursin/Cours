{
 "cells": [
  {
   "cell_type": "markdown",
   "metadata": {},
   "source": [
    "**Exercice 4**"
   ]
  },
  {
   "cell_type": "markdown",
   "metadata": {},
   "source": [
    "**1)** Déjà, en reprenant les notations de l'exercice, on a\n",
    "\\begin{align*}\n",
    "    Syz(f,g) &= \\frac{lcm(LM(f), LM(g))}{LT(f)}f - \\frac{lcm(LM(f), LM(g))}{LT(g)}g \\\\\n",
    "    &= \\frac{mm'm''}{\\lambda mm'}f - \\frac{mm'm''}{\\mu m''}g \\\\\n",
    "    &= \\frac{m''}{\\lambda}f - \\frac{m'}{\\mu }g \\\\\n",
    "\\end{align*}\n",
    "Maintenant le résultat de la division multivariée de $Syz(f,g)$ par $f,g$ donne $Syz(f,g) = h_1f + h_2g$, vu que $(f,g)$ est une bdg. Ainsi on a\n",
    "\\begin{align*}\n",
    "    \\frac{m''}{\\lambda}f - \\frac{m'}{\\mu }g = h_1f + h_2g &\\iff \\mu m'' f - \\lambda m' g = \\mu \\lambda h_1f + \\mu \\lambda h_2g \\\\\n",
    "    &\\iff (\\mu m'' - \\mu \\lambda h_1) f = (\\lambda m' + \\mu \\lambda h_2)g \\\\\n",
    "\\end{align*}\n",
    "Alors $f$ doit diviser $(\\lambda m' + \\mu \\lambda h_2)g$, mais $f$ et $g$ n'ont pas de facteurs en commun, et ainsi $f \\mid \\lambda m' + \\mu \\lambda h_2$. Finalement, au vu de l'algorithme de division multivariée, on doit avoir que $LT(h_2)$ n'est pas divisible par $LT(f)$, et alors on pose $g_1 := \\mu \\lambda h_2$. (A préciser)"
   ]
  },
  {
   "cell_type": "markdown",
   "metadata": {},
   "source": [
    "**2.** Comme $f$ divise $\\lambda m' + g_1$, on a que $LT(f)$ divise $LT(\\lambda m' + g_1)$. Alors soit $LM(\\lambda m' + g_1) = m'$ (cad que tous les termes de $g_1$ sont plus petits que $\\lambda m'$), et alors $m = 1$, soit $g_1$ a un terme plus grand que $\\lambda m'$, et alors $LM(\\lambda m' + g_1) = LM(g_1)$, et alors on aurait $LT(f) \\mid LT(g_1)$, absurde."
   ]
  },
  {
   "cell_type": "markdown",
   "metadata": {},
   "source": [
    "**3.** D'après les questions précédentes, si $(f,g)$ est une bdg, alors $LT(f)$ et $LT(g)$ sont premiers entre eux. Réciproquement, il suffit de calculer le $Syz(f,g)$ : écrivons $LT(f) = \\lambda m'$, $LT(g) = \\mu m''$, alors\n",
    "\\begin{align*}\n",
    "    Syz(f, g) = \\frac{m'm''}{\\lambda m'}f - \\frac{m'm''}{\\mu m'}g = \\frac{m''}{\\lambda}f - \\frac{m'}{\\mu}g\n",
    "\\end{align*}\n",
    "Réalisons l'algorithme de division multivariée :"
   ]
  }
 ],
 "metadata": {
  "kernelspec": {
   "display_name": "SageMath 8.1",
   "language": "",
   "name": "sagemath"
  },
  "language_info": {
   "codemirror_mode": {
    "name": "ipython",
    "version": 2
   },
   "file_extension": ".py",
   "mimetype": "text/x-python",
   "name": "python",
   "nbconvert_exporter": "python",
   "pygments_lexer": "ipython2",
   "version": "2.7.15rc1"
  }
 },
 "nbformat": 4,
 "nbformat_minor": 2
}
