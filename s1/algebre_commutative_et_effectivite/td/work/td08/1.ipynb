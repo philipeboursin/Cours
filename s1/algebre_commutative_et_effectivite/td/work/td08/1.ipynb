{
 "cells": [
  {
   "cell_type": "markdown",
   "metadata": {},
   "source": [
    "**Exercice 1**"
   ]
  },
  {
   "cell_type": "code",
   "execution_count": 1,
   "metadata": {},
   "outputs": [],
   "source": [
    "def div_mult(f, L):\n",
    "    g = f\n",
    "    Q = [0 for i in range(len(L))]\n",
    "    R = 0\n",
    "    while g != 0:\n",
    "        b = True\n",
    "        i = 0\n",
    "        glm = g.lt()\n",
    "        while b and i < len(L):\n",
    "            Lilm = L[i].lt()\n",
    "            if glm % Lilm == 0:\n",
    "                g -= L[i]*(glm // Lilm)\n",
    "                Q[i] += glm // Lilm\n",
    "                b = False\n",
    "            i += 1\n",
    "        if b:\n",
    "            g -= glm\n",
    "            R += glm\n",
    "    return Q, R\n",
    "\n",
    "#siziji (?)\n",
    "def sfg(f, g):\n",
    "    A = f.parent()\n",
    "    inter = lcm(f.lm(), g.lm())\n",
    "    return A(f*inter/f.lt() - g*inter/g.lt())\n",
    "\n",
    "#Critère de Buchberger\n",
    "def is_grob(L):\n",
    "    b = True\n",
    "    for i in range(len(L)):\n",
    "        for j in range(i):\n",
    "            _,R = div_mult(sfg(L[i], L[j]), L)\n",
    "            b = b & (R == 0)\n",
    "    return b\n",
    "\n",
    "#Algorithme de Buchberger\n",
    "def grobner_basis(L):\n",
    "    b = True\n",
    "    while b:\n",
    "        b = False\n",
    "        G = copy(L)\n",
    "        for f in G:\n",
    "            for g in G:\n",
    "                _, r = div_mult(sfg(f, g), G)\n",
    "                if r != 0:\n",
    "                    L.append(r)\n",
    "                    b = True\n",
    "        L = list(set(L))\n",
    "    return L"
   ]
  },
  {
   "cell_type": "markdown",
   "metadata": {},
   "source": [
    "**1**"
   ]
  },
  {
   "cell_type": "code",
   "execution_count": 7,
   "metadata": {},
   "outputs": [
    {
     "name": "stdout",
     "output_type": "stream",
     "text": [
      "[x*y + y^2, y^3, x^2, -y^3]\n",
      "[x^2, x*y + y^2, y^3]\n"
     ]
    }
   ],
   "source": [
    "A.<x, y> = PolynomialRing(QQ, order = 'lex')\n",
    "L = [x^2, x*y + y^2]\n",
    "I = A.ideal(L)\n",
    "print(grobner_basis(L))\n",
    "# Ou\n",
    "print(I.groebner_basis())"
   ]
  },
  {
   "cell_type": "markdown",
   "metadata": {},
   "source": [
    "**2**"
   ]
  },
  {
   "cell_type": "code",
   "execution_count": 19,
   "metadata": {},
   "outputs": [
    {
     "name": "stdout",
     "output_type": "stream",
     "text": [
      "True\n"
     ]
    }
   ],
   "source": [
    "A.<x, y, z> = PolynomialRing(QQ, order = 'degrevlex')\n",
    "L = [y^2, x*y*z + z^3]\n",
    "G = grobner_basis(L)\n",
    "print(A.ideal(G).basis_is_groebner())"
   ]
  },
  {
   "cell_type": "markdown",
   "metadata": {},
   "source": [
    "**3**"
   ]
  },
  {
   "cell_type": "code",
   "execution_count": 20,
   "metadata": {},
   "outputs": [
    {
     "name": "stdout",
     "output_type": "stream",
     "text": [
      "[x*y^2 - x, x^2 - y, y^2 - 1, x^2*y - 1, -y^3 + y, y^3 - y, -x^2 + y, -y^2 + 1]\n",
      "True\n"
     ]
    }
   ],
   "source": [
    "A.<x, y> = PolynomialRing(QQ, order = 'lex')\n",
    "L = [x^2*y - 1, x*y^2 - x]\n",
    "G = grobner_basis(L)\n",
    "print(G)\n",
    "print(A.ideal(G).basis_is_groebner())"
   ]
  },
  {
   "cell_type": "markdown",
   "metadata": {},
   "source": [
    "**4**"
   ]
  },
  {
   "cell_type": "code",
   "execution_count": 24,
   "metadata": {},
   "outputs": [
    {
     "name": "stdout",
     "output_type": "stream",
     "text": [
      "[y - z^5, x - z^3]\n",
      "True\n",
      "[x*z^2 - y, -x^2 + y*z, -z^3 + x, -z^5 + y, x^2 - y*z, -x*z^2 + y]\n",
      "True\n"
     ]
    }
   ],
   "source": [
    "A.<x, y, z> = PolynomialRing(QQ, order = 'lex')\n",
    "L = [x - z^3, y - z^5]\n",
    "G = grobner_basis(L)\n",
    "print(G)\n",
    "print(A.ideal(G).basis_is_groebner())\n",
    "A = A.change_ring(order = 'degrevlex')\n",
    "M = [A(g) for g in G]\n",
    "H = grobner_basis(M)\n",
    "print(H)\n",
    "print(A.ideal(H).basis_is_groebner())"
   ]
  }
 ],
 "metadata": {
  "kernelspec": {
   "display_name": "SageMath 8.1",
   "language": "",
   "name": "sagemath"
  },
  "language_info": {
   "codemirror_mode": {
    "name": "ipython",
    "version": 2
   },
   "file_extension": ".py",
   "mimetype": "text/x-python",
   "name": "python",
   "nbconvert_exporter": "python",
   "pygments_lexer": "ipython2",
   "version": "2.7.15rc1"
  }
 },
 "nbformat": 4,
 "nbformat_minor": 2
}
