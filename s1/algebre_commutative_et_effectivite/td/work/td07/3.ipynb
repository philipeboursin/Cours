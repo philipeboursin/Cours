{
 "cells": [
  {
   "cell_type": "markdown",
   "metadata": {},
   "source": [
    "**Exercice 3**"
   ]
  },
  {
   "cell_type": "code",
   "execution_count": 2,
   "metadata": {},
   "outputs": [],
   "source": [
    "def sfg(f, g):\n",
    "    A = f.parent()\n",
    "    inter = lcm(f.lm(), g.lm())\n",
    "    return A(f*inter/f.lt() - g*inter/g.lt())"
   ]
  },
  {
   "cell_type": "markdown",
   "metadata": {},
   "source": [
    "Oui, la fonction dépend de l'ordre : voici un exemple :"
   ]
  },
  {
   "cell_type": "code",
   "execution_count": 3,
   "metadata": {},
   "outputs": [
    {
     "name": "stdout",
     "output_type": "stream",
     "text": [
      "-x^2*y + y^2\n",
      "-y*x + x^3\n"
     ]
    }
   ],
   "source": [
    "A.<x, y> = PolynomialRing(QQ, order = 'lex')\n",
    "P = x^3 + y^2\n",
    "Q = x + y\n",
    "print(sfg(P, Q))\n",
    "A = A.change_ring(names = 'y,x')\n",
    "print(sfg(A(P), A(Q)))"
   ]
  }
 ],
 "metadata": {
  "kernelspec": {
   "display_name": "SageMath 8.1",
   "language": "",
   "name": "sagemath"
  },
  "language_info": {
   "codemirror_mode": {
    "name": "ipython",
    "version": 2
   },
   "file_extension": ".py",
   "mimetype": "text/x-python",
   "name": "python",
   "nbconvert_exporter": "python",
   "pygments_lexer": "ipython2",
   "version": "2.7.15rc1"
  }
 },
 "nbformat": 4,
 "nbformat_minor": 2
}
