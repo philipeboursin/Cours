{
 "cells": [
  {
   "cell_type": "markdown",
   "metadata": {},
   "source": [
    "**Exercice 1**"
   ]
  },
  {
   "cell_type": "code",
   "execution_count": 3,
   "metadata": {},
   "outputs": [],
   "source": [
    "def sfg(f, g):\n",
    "    A = f.parent()\n",
    "    inter = lcm(f.lm(), g.lm())\n",
    "    return A(f*inter/f.lt() + g*inter/f.lt())\n",
    "\n",
    "_.<x,y> = PolynomialRing(QQ, order = 'lex')\n",
    "P1 = x^3*y - 2*x^2*y^2 + x\n",
    "P2 = 3*x^4 - y"
   ]
  },
  {
   "cell_type": "markdown",
   "metadata": {},
   "source": [
    "**1.**"
   ]
  },
  {
   "cell_type": "code",
   "execution_count": 5,
   "metadata": {},
   "outputs": [
    {
     "name": "stdout",
     "output_type": "stream",
     "text": [
      "sfg(P1, P2) = 3*x^5 + x^4*y - 2*x^3*y^2 + x^2 - x*y\n"
     ]
    }
   ],
   "source": [
    "print(\"sfg(P1, P2) = \" + str(sfg(P1, P2)))"
   ]
  },
  {
   "cell_type": "markdown",
   "metadata": {},
   "source": [
    "**2.**"
   ]
  },
  {
   "cell_type": "markdown",
   "metadata": {},
   "source": [
    "Comme $sfg(P_1, P_2) \\neq 0$, d'après le critère de buchberger $\\{P_1, P_2\\}$ n'est pas une base de Groebner de $I = (P_1, P_2)$. "
   ]
  }
 ],
 "metadata": {
  "kernelspec": {
   "display_name": "SageMath 8.1",
   "language": "",
   "name": "sagemath"
  },
  "language_info": {
   "codemirror_mode": {
    "name": "ipython",
    "version": 2
   },
   "file_extension": ".py",
   "mimetype": "text/x-python",
   "name": "python",
   "nbconvert_exporter": "python",
   "pygments_lexer": "ipython2",
   "version": "2.7.15rc1"
  }
 },
 "nbformat": 4,
 "nbformat_minor": 2
}
