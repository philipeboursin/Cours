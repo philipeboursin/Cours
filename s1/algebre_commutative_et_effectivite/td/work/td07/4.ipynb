{
 "cells": [
  {
   "cell_type": "markdown",
   "metadata": {},
   "source": [
    "**Exercice 4**"
   ]
  },
  {
   "cell_type": "markdown",
   "metadata": {},
   "source": [
    "Avant de faire cet exercice, donnons rapidement un lemme concernant la réduction d'un élément selon une base de Groebner : soit $f \\in k[x_1, \\cdots, x_n]$, $I$ un idéal de $k[x_1, \\cdots, x_n]$ et $G = \\{g_1, \\cdots, g_r\\}$ une base de Groebner de $I$. Supposons que l'on peut écrire $f = h + r = h' + r'$ avec $LT(g_i)$ qui ne divise aucun des termes de $r$ et $r'$ et $h,h' \\in I$ (on appelle une telle décomposition une réduction de $f$ dans $G$, l'algorithme de division multivariée nous prouve l'existence de telles décompositions), on a alors que $r = r'$ (et donc $h = h'$). En effet, on a alors que $r - r' \\in I$, et ainsi $\\overline{r - r'}^G = 0$. Mais réaliser l'algorithme de division multivariée sur $r - r'$ donne directement $r - r'$, puisque $LT(g_i)$ ne divise aucun des termes de $r$ et $r'$, donc aucun des termes de $r - r'$. On a finalement $0 = \\overline{r - r'}^G = r - r'$ et donc $r = r'$."
   ]
  },
  {
   "cell_type": "markdown",
   "metadata": {},
   "source": [
    "**1.** Notons $f_j = h_i + \\bar f_j^G$, $j = 1,2$, $h_j \\in I$, le résultat de la division multivariée de $f_j$ par $G$. Alors si $\\bar f_1^G = \\bar f_2^G$, on a $f_1 - f_2 = h_1 - h_2\\in I$. Réciproquement, si $f_1 - f_2 \\in I$, alors\n",
    "\\begin{align*}\n",
    "    (h_1 - h_2) + (r_1 - r_2) = f_1 - f_2 = h \\in I\n",
    "\\end{align*}\n",
    "Par l'unicité de la décomposition selon $G$, on a ainsi $r_1 - r_2 = 0$."
   ]
  },
  {
   "cell_type": "markdown",
   "metadata": {},
   "source": [
    "**2.** Ecrivons $f_j = h_j + \\bar f_j^G$, alors \n",
    "\\begin{align*}\n",
    "    f_1 + f_2 = h_1 + h_2 + \\bar f_1^G + \\bar f_2^G\n",
    "\\end{align*}\n",
    "et donc par unicité de cette décomposition selon $G$, on a $\\overline{f_1 + f_2}^G = \\bar f_1^G + \\bar f_2^G$"
   ]
  },
  {
   "cell_type": "markdown",
   "metadata": {},
   "source": [
    "**3.** On garde les notations des questions précédentes : alors \n",
    "\\begin{align*}\n",
    "    f_1f_2 = h + \\overline{f_1}^G\\overline{f_2}^G\n",
    "\\end{align*}\n",
    "avec $h \\in I$. Ainsi en réalisant l'algorithme de division multivariée, on obtient que  \n",
    "\\begin{align*}\n",
    "    \\overline{f_1f_2}^G = \\overline{h + \\overline{f_1}^G\\overline{f_2}^G}^G = \\overline{h}^G + \\overline{\\overline{f_1}^G\\overline{f_2}^G}^G = \\overline{\\overline{f_1}^G\\overline{f_2}^G}^G\n",
    "\\end{align*}\n",
    "puisque $G$ est une base de Groebner."
   ]
  }
 ],
 "metadata": {
  "kernelspec": {
   "display_name": "SageMath 8.1",
   "language": "",
   "name": "sagemath"
  },
  "language_info": {
   "codemirror_mode": {
    "name": "ipython",
    "version": 2
   },
   "file_extension": ".py",
   "mimetype": "text/x-python",
   "name": "python",
   "nbconvert_exporter": "python",
   "pygments_lexer": "ipython2",
   "version": "2.7.15rc1"
  }
 },
 "nbformat": 4,
 "nbformat_minor": 2
}
