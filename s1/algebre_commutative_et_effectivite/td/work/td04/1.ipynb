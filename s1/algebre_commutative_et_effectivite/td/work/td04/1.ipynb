{
 "cells": [
  {
   "cell_type": "markdown",
   "metadata": {},
   "source": [
    "**Exercice 4.1**"
   ]
  },
  {
   "cell_type": "markdown",
   "metadata": {},
   "source": [
    "Soit $\\beta \\in S$ le plus petit élément de $S$. Notons $m = x^\\beta$, alors comme $m \\in I$, $\\exists 1 \\leq i \\leq r$ tel que $x^{\\alpha_i} \\mid x^\\beta$. Ainsi il existe $\\gamma \\in \\mathbb{N}^n$ tel que $\\beta = \\alpha_i + \\gamma$. Mais alors $\\beta = \\alpha_i + \\gamma \\geq \\alpha_i + 0 = \\alpha$. Mais $\\alpha_i \\in S$, et par minimalité de $\\beta$, $\\alpha_i \\geq \\beta$, et $\\alpha_i = \\beta$ par antisymétrie, ce qui prouve que $\\beta \\in A$."
   ]
  }
 ],
 "metadata": {
  "kernelspec": {
   "display_name": "SageMath 8.1",
   "language": "",
   "name": "sagemath"
  },
  "language_info": {
   "codemirror_mode": {
    "name": "ipython",
    "version": 2
   },
   "file_extension": ".py",
   "mimetype": "text/x-python",
   "name": "python",
   "nbconvert_exporter": "python",
   "pygments_lexer": "ipython2",
   "version": "2.7.15rc1"
  }
 },
 "nbformat": 4,
 "nbformat_minor": 2
}
