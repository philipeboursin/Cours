{
 "cells": [
  {
   "cell_type": "markdown",
   "metadata": {},
   "source": [
    "**Exercice 3**"
   ]
  },
  {
   "cell_type": "markdown",
   "metadata": {},
   "source": [
    "Prouvons que $(LT(G \\backslash \\{Q\\})) = (LT(G))$ : on a clairement $\\subseteq$, puis $LT(P) \\mid LT(Q)$ et donc $LT(Q) \\in (LT(G \\backslash \\{Q\\}))$ ce qui prouve que $(LT(G \\backslash \\{Q\\})) = (LT(G)) = (LT(I))$ et donc $G \\backslash \\{Q\\}$ est une base de Groebner de $I$"
   ]
  }
 ],
 "metadata": {
  "kernelspec": {
   "display_name": "SageMath 8.1",
   "language": "",
   "name": "sagemath"
  },
  "language_info": {
   "codemirror_mode": {
    "name": "ipython",
    "version": 2
   },
   "file_extension": ".py",
   "mimetype": "text/x-python",
   "name": "python",
   "nbconvert_exporter": "python",
   "pygments_lexer": "ipython2",
   "version": "2.7.15rc1"
  }
 },
 "nbformat": 4,
 "nbformat_minor": 2
}
