{
 "cells": [
  {
   "cell_type": "markdown",
   "metadata": {},
   "source": [
    "**Exercice 7**"
   ]
  },
  {
   "cell_type": "code",
   "execution_count": 13,
   "metadata": {},
   "outputs": [
    {
     "name": "stdout",
     "output_type": "stream",
     "text": [
      "[x^2 - x, x*y - x, y^2 - x]\n",
      "[x - y^2, y^3 - y^2]\n",
      "[x^2 - x, x*y - x, y^2 - x]\n",
      "[x - y^2, y^3 - y^2]\n"
     ]
    }
   ],
   "source": [
    "A.<x,y> = PolynomialRing(QQ, order = 'deglex')\n",
    "I = ideal(x - y^2, x*y - x)\n",
    "print(I.groebner_basis())\n",
    "print(I.change_ring(A.change_ring(order = 'lex')).groebner_basis())\n",
    "print(I.change_ring(A.change_ring(order = 'degrevlex')).groebner_basis())\n",
    "print(I.change_ring(A.change_ring(order = 'lex')).groebner_basis())"
   ]
  },
  {
   "cell_type": "markdown",
   "metadata": {},
   "source": [
    "Conjecture : $G := \\{x^2 - x, xy - x, y^2 - x, y^3 - y^2\\}$ est une bdg universelle de $I$. Peu importe l'ordre monomial, $LT(x^2 - x) = x^2, LT(xy - x) = xy$ et $LT(y^3 - y^2) = y^3$. Ainsi $LT(G)$ va dépendre de l'ordre entre $x$ et $y^2$ :\n",
    "\\begin{align*}\n",
    "    (LT(G)) = \n",
    "    \\begin{cases}\n",
    "        (y^3, x) & \\text{ si } x > y^2 \\\\\n",
    "        (x^2, xy, y^2) & \\text{ sinon} \\\\\n",
    "    \\end{cases}\n",
    "\\end{align*}\n",
    "Il faut donc montrer que $(LT(I)) = (LT(G))$ dans tous les cas. On a toujours $\\supseteq$, montrons $\\subseteq$. Par l'absurde, supposons que $(LT(I)) \\nsubseteq (LT(G))$\n",
    "\n",
    "Cas 1 : Soit $x^ay^b \\in (LT(I)) \\backslash (LT(G))$, alors comme $x \\in LT(G)$ on a $a = 0$ et comme $y^3 \\in LT(G)$ alors $0 \\leq b \\leq 2$. Maintenant soit $P \\in I$ tel que $LT(P) = y^b$, alors comme $x > y^2$, il s'écrit forcément comme $P = ay^2 + by + x$ avec $a,b,c \\in \\mathbb{Q}$. Maintenant $G$ est une base de groebner pour lex, au vu des calculs précédents, et on peut voir que le reste de la division multivariée de $P$ par $G$ avec l'ordre lex n'est pas nul, or $G$ est une base de groebner pour lex, absurde.\n",
    "\n",
    "Cas 2 : Comme précédemment, il existe un polynôme $f \\in I$ de la forme $ax + by + x$. On divise alors $f$ par $G$ pour un certain ordre (?) et le reste n'est pas nul ... "
   ]
  }
 ],
 "metadata": {
  "kernelspec": {
   "display_name": "SageMath 8.1",
   "language": "",
   "name": "sagemath"
  },
  "language_info": {
   "codemirror_mode": {
    "name": "ipython",
    "version": 2
   },
   "file_extension": ".py",
   "mimetype": "text/x-python",
   "name": "python",
   "nbconvert_exporter": "python",
   "pygments_lexer": "ipython2",
   "version": "2.7.15rc1"
  }
 },
 "nbformat": 4,
 "nbformat_minor": 2
}
