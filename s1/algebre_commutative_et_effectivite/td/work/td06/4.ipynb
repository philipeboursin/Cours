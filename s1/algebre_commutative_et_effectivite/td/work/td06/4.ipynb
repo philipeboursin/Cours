{
 "cells": [
  {
   "cell_type": "markdown",
   "metadata": {},
   "source": [
    "**Exercice 4**"
   ]
  },
  {
   "cell_type": "code",
   "execution_count": 3,
   "metadata": {},
   "outputs": [
    {
     "name": "stdout",
     "output_type": "stream",
     "text": [
      "P est dans I ? True\n",
      "True\n"
     ]
    }
   ],
   "source": [
    "_.<x,y,z> = QQ[]\n",
    "P = x^3 + 1\n",
    "I = ideal(x + y + z, x*y + y*z + z*x, x*y*z + 1)\n",
    "B = I.groebner_basis()\n",
    "print(\"P est dans I ? \" + str(P.reduce(B) == 0))\n",
    "\n",
    "# Ou directement dans sage\n",
    "print(P in I)"
   ]
  }
 ],
 "metadata": {
  "kernelspec": {
   "display_name": "SageMath 8.1",
   "language": "",
   "name": "sagemath"
  },
  "language_info": {
   "codemirror_mode": {
    "name": "ipython",
    "version": 2
   },
   "file_extension": ".py",
   "mimetype": "text/x-python",
   "name": "python",
   "nbconvert_exporter": "python",
   "pygments_lexer": "ipython2",
   "version": "2.7.15rc1"
  }
 },
 "nbformat": 4,
 "nbformat_minor": 2
}
