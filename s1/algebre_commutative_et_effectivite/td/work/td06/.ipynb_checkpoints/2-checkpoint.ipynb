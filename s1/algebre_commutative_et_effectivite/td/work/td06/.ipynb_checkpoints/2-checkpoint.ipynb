{
 "cells": [
  {
   "cell_type": "markdown",
   "metadata": {},
   "source": [
    "**Exercice 2**"
   ]
  },
  {
   "cell_type": "code",
   "execution_count": 1,
   "metadata": {},
   "outputs": [
    {
     "name": "stdout",
     "output_type": "stream",
     "text": [
      "Base de Groebner de I pour degrevlex : [z^5, y*z^3, x*y*z + z^3, y^2]\n"
     ]
    }
   ],
   "source": [
    "_.<x, y, z> = PolynomialRing(QQ, 3, order = 'degrevlex')\n",
    "I = ideal(x*y*z + z^3, y^2)\n",
    "B = I.groebner_basis()\n",
    "print(\"Base de Groebner de I pour degrevlex : \" + str(B))"
   ]
  }
 ],
 "metadata": {
  "kernelspec": {
   "display_name": "SageMath 8.1",
   "language": "",
   "name": "sagemath"
  },
  "language_info": {
   "codemirror_mode": {
    "name": "ipython",
    "version": 2
   },
   "file_extension": ".py",
   "mimetype": "text/x-python",
   "name": "python",
   "nbconvert_exporter": "python",
   "pygments_lexer": "ipython2",
   "version": "2.7.15rc1"
  }
 },
 "nbformat": 4,
 "nbformat_minor": 2
}
