{
 "cells": [
  {
   "cell_type": "markdown",
   "metadata": {},
   "source": [
    "**Exercice 5**"
   ]
  },
  {
   "cell_type": "markdown",
   "metadata": {},
   "source": [
    "Considérons un sous-ensemble fini $S \\subseteq I$ tel qu'il existe $P \\in S$ avec $(P) = I$. Montrons que $(LT(I)) \\subseteq (LT(S))$ : soit $Q \\in I$, alors $Q = AP$ avec $A \\in k[x_1, \\cdots, x_n]$. Alors $LT(P) \\mid LT(Q)$, et donc $LT(Q) \\in (LT(S))$ car $LT(P) \\in LT(S)$. Ainsi $(LT(I)) = (LT(S))$."
   ]
  }
 ],
 "metadata": {
  "kernelspec": {
   "display_name": "SageMath 8.1",
   "language": "",
   "name": "sagemath"
  },
  "language_info": {
   "codemirror_mode": {
    "name": "ipython",
    "version": 2
   },
   "file_extension": ".py",
   "mimetype": "text/x-python",
   "name": "python",
   "nbconvert_exporter": "python",
   "pygments_lexer": "ipython2",
   "version": "2.7.15rc1"
  }
 },
 "nbformat": 4,
 "nbformat_minor": 2
}
