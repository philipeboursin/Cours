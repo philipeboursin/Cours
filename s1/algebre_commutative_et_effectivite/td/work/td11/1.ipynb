{
 "cells": [
  {
   "cell_type": "markdown",
   "metadata": {},
   "source": [
    "**Exercice 1**"
   ]
  },
  {
   "cell_type": "markdown",
   "metadata": {},
   "source": [
    "**1.** Par définition, $I \\cap k[x_{l+1}, \\cdots, x_n]$ est la préimage de $I$ par le morphisme canonique $k[x_{l+1}, \\cdots, x_n] \\to k[x_1, \\cdots, x_n]$. Comme $I$ est un idéal de $k[x_1, \\cdots, x_n]$, on a donc que $I_l$ est un idéal de $k[x_{l + 1}, \\cdots, x_n]$."
   ]
  },
  {
   "cell_type": "markdown",
   "metadata": {},
   "source": [
    "**2.** $I_{l + 1}$ est par définition l'image réciproque de $I$ par le morphisme canonique $k[x_{l+2}, \\cdots, x_n] \\xrightarrow[]{a} k[x_1, \\cdots, x_n]$. Mais ce morphisme est égal à la composition $k[x_{l + 2}, \\cdots, x_n] \\xrightarrow[]{b} k[x_{l + 1}, \\cdots, x_n] \\xrightarrow[]{c} k[x_1, \\cdots, x_n]$. Ainsi $I_{l+1} = a^{-1}(I) = b^{-1}(c^{-1}(I)) = b^{-1}(I_l) = (I_l)_1$."
   ]
  },
  {
   "cell_type": "markdown",
   "metadata": {},
   "source": [
    "**3.** On peut déjà éliminer plusieurs variables avec l'énoncé du cours ..."
   ]
  }
 ],
 "metadata": {
  "kernelspec": {
   "display_name": "SageMath 8.1",
   "language": "",
   "name": "sagemath"
  },
  "language_info": {
   "codemirror_mode": {
    "name": "ipython",
    "version": 2
   },
   "file_extension": ".py",
   "mimetype": "text/x-python",
   "name": "python",
   "nbconvert_exporter": "python",
   "pygments_lexer": "ipython2",
   "version": "2.7.15rc1"
  }
 },
 "nbformat": 4,
 "nbformat_minor": 2
}
