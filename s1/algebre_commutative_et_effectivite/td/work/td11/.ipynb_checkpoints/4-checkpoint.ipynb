{
 "cells": [
  {
   "cell_type": "markdown",
   "metadata": {},
   "source": [
    "**Exercice 4**\n",
    "\n",
    "On utilise la méthode usuelle de substitution successive pour résoudre le système : d'abord dans $\\mathbb{R}^3$ :"
   ]
  },
  {
   "cell_type": "code",
   "execution_count": 79,
   "metadata": {},
   "outputs": [
    {
     "data": {
      "text/plain": [
       "[z - 2*y + 5/2*x^2 - 1/2, y^2 - 5/2*y + 3*x^2 - 1/2, y*x - 1/7*x^2, x^3 - 35/296*x^2 - 49/296*x]"
      ]
     },
     "execution_count": 79,
     "metadata": {},
     "output_type": "execute_result"
    }
   ],
   "source": [
    "A.<z, y, x> = PolynomialRing(QQ, order = 'lex')\n",
    "I = A.ideal(x^2 + 2*y^2 - y - 2*z, x^2 - 8*y^2 + 10*z - 1, x^2 - 7*x*y)\n",
    "G = I.groebner_basis()\n",
    "G"
   ]
  },
  {
   "cell_type": "code",
   "execution_count": 80,
   "metadata": {},
   "outputs": [
    {
     "data": {
      "text/plain": [
       "[-7/592*sqrt(1209) + 35/592, 7/592*sqrt(1209) + 35/592, 0]"
      ]
     },
     "execution_count": 80,
     "metadata": {},
     "output_type": "execute_result"
    }
   ],
   "source": [
    "F = G[-1].univariate_polynomial().roots(SR, multiplicities = false)\n",
    "F"
   ]
  },
  {
   "cell_type": "code",
   "execution_count": 81,
   "metadata": {},
   "outputs": [
    {
     "name": "stdout",
     "output_type": "stream",
     "text": [
      "[(-7/592*sqrt(1209) + 35/592, -1/592*sqrt(1209) + 5/592), (7/592*sqrt(1209) + 35/592, 1/592*sqrt(1209) + 5/592), (0, 1/4*sqrt(33) + 5/4), (0, -1/4*sqrt(33) + 5/4)]\n"
     ]
    }
   ],
   "source": [
    "S = []\n",
    "var('y')\n",
    "for f in F:\n",
    "    inter = solve([G[1](x = f), G[2](x = f)], y)\n",
    "    for i in inter:\n",
    "        S.append((f, i[0].rhs()))\n",
    "        \n",
    "print(S)"
   ]
  },
  {
   "cell_type": "code",
   "execution_count": 82,
   "metadata": {},
   "outputs": [
    {
     "name": "stdout",
     "output_type": "stream",
     "text": [
      "[(-7/592*sqrt(1209) + 35/592, -1/592*sqrt(1209) + 5/592, 41/350464*sqrt(1209) + 29987/350464), (7/592*sqrt(1209) + 35/592, 1/592*sqrt(1209) + 5/592, -41/350464*sqrt(1209) + 29987/350464), (0, 1/4*sqrt(33) + 5/4, 1/2*sqrt(33) + 3), (0, -1/4*sqrt(33) + 5/4, -1/2*sqrt(33) + 3)]\n"
     ]
    }
   ],
   "source": [
    "T = []\n",
    "var('z')\n",
    "for s in S:\n",
    "    inter = solve((G[0](x = s[0], y = s[1])), z)\n",
    "    for i in inter:\n",
    "        T.append((s[0], s[1], i.rhs()))\n",
    "        \n",
    "print(T)"
   ]
  },
  {
   "cell_type": "markdown",
   "metadata": {},
   "source": [
    "Pour $\\mathbb{C}^3$, remarquons que les racines de la première équations sont toutes réelles, car elle admet $3$ racines réelles. Quand on rajoute $y$, la troisième équation contraint directement la valeur de $y$ si $x \\neq 0$, et sinon la troisième équation est inutile et la deuxième est un polynôme de degré $2$ de discriminant positif, donc qui admet deux solutions réelles. Ainsi les $(x,y) \\in \\mathbb{C}^2$ qui satifont les $3$ dernières équations sont en fait réels, puis la première équation fixe directement la valeur de $z$. Ainsi les solutions dans $\\mathbb{C}^3$ sont exactement les solutions dans $\\mathbb{R}^3$. On peut vérifier cela avec la commande suivante par exemple :"
   ]
  },
  {
   "cell_type": "code",
   "execution_count": 83,
   "metadata": {},
   "outputs": [
    {
     "data": {
      "text/plain": [
       "True"
      ]
     },
     "execution_count": 83,
     "metadata": {},
     "output_type": "execute_result"
    }
   ],
   "source": [
    "I.variety(CC) == I.variety(RR)"
   ]
  },
  {
   "cell_type": "code",
   "execution_count": 93,
   "metadata": {},
   "outputs": [
    {
     "name": "stdout",
     "output_type": "stream",
     "text": [
      "[(-0.352018143766878, -0.0502883062524112, 0.0896314536424812), (0.470261387010121, 0.0671801981443031, 0.0814959660068979), (0.000000000000000, 2.68614066163451, 5.87228132326901), (0.000000000000000, -0.186140661634507, 0.127718676730986)]\n",
      "[(-0.352018143766878, -0.0502883062524112, 0.0896314536424812), (0.000000000000000, -0.186140661634507, 0.127718676730986), (0.000000000000000, 2.68614066163451, 5.87228132326901), (0.470261387010122, 0.0671801981443031, 0.0814959660068979)]\n",
      "False\n"
     ]
    }
   ],
   "source": [
    "L1 = []\n",
    "L2 = []\n",
    "\n",
    "for t in T:\n",
    "    L1.append((CC(t[0]), CC(t[1]), CC(t[2])))\n",
    "    \n",
    "for d in I.variety(RR):\n",
    "    L2.append((d[x], d[y], d[z]))\n",
    "\n",
    "print(L1)\n",
    "print(L2)\n",
    "print(set(L1) == set(L2))"
   ]
  },
  {
   "cell_type": "markdown",
   "metadata": {},
   "source": [
    "Ca marque false mais c'est à cause des erreurs d'arrondi !"
   ]
  }
 ],
 "metadata": {
  "kernelspec": {
   "display_name": "SageMath 8.1",
   "language": "",
   "name": "sagemath"
  },
  "language_info": {
   "codemirror_mode": {
    "name": "ipython",
    "version": 2
   },
   "file_extension": ".py",
   "mimetype": "text/x-python",
   "name": "python",
   "nbconvert_exporter": "python",
   "pygments_lexer": "ipython2",
   "version": "2.7.15rc1"
  }
 },
 "nbformat": 4,
 "nbformat_minor": 2
}
