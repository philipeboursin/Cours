{
 "cells": [
  {
   "cell_type": "markdown",
   "metadata": {},
   "source": [
    "**Exercice 3**"
   ]
  },
  {
   "cell_type": "markdown",
   "metadata": {},
   "source": [
    "**1.**"
   ]
  },
  {
   "cell_type": "code",
   "execution_count": 2,
   "metadata": {},
   "outputs": [
    {
     "name": "stdout",
     "output_type": "stream",
     "text": [
      "[x + 2*z^3 - 3*z, y^2 - z^2 - 1, z^4 - 3/2*z^2 + 1/2]\n",
      "Ideal (2*z^4 - 3*z^2 + 1, y^2 - z^2 - 1) of Multivariate Polynomial Ring in x, y, z over Rational Field\n",
      "Ideal (2*z^4 - 3*z^2 + 1) of Multivariate Polynomial Ring in x, y, z over Rational Field\n"
     ]
    }
   ],
   "source": [
    "A.<x,y,z> = PolynomialRing(QQ, order = 'lex')\n",
    "I = A.ideal(x^2 + y^2 + z^2 - 4, x^2 + 2*y^2 - 5, x*z - 1)\n",
    "G = I.groebner_basis()\n",
    "print(G)\n",
    "I1 = I.elimination_ideal(x)\n",
    "print(I1)\n",
    "I2 = I1.elimination_ideal(x).elimination_ideal(y)\n",
    "print(I2)\n",
    "# I2 = I.elminiation_ideal(x)"
   ]
  }
 ],
 "metadata": {
  "kernelspec": {
   "display_name": "SageMath 8.1",
   "language": "",
   "name": "sagemath"
  },
  "language_info": {
   "codemirror_mode": {
    "name": "ipython",
    "version": 2
   },
   "file_extension": ".py",
   "mimetype": "text/x-python",
   "name": "python",
   "nbconvert_exporter": "python",
   "pygments_lexer": "ipython2",
   "version": "2.7.15rc1"
  }
 },
 "nbformat": 4,
 "nbformat_minor": 2
}
