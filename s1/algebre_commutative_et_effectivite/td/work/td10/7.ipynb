{
 "cells": [
  {
   "cell_type": "markdown",
   "metadata": {},
   "source": [
    "**Exercice 7**"
   ]
  },
  {
   "cell_type": "markdown",
   "metadata": {},
   "source": [
    "**1.** Considérons l'idéal $I = \\langle X + Y + Z - 3, X^2 + Y^2 + Z^2 - 5, X^3 + Y^3 + Z^3 - 7 \\rangle$. Alors $(a,b,c)$ satisfait le système de l'énoncé si et seulement si $(a,b,c) \\in V(I)$ par définition de $V(I)$. Maintenant si $X^4 + Y^4 + Z^4 - 9 \\in I$, alors pour tout $(a,b,c) \\in V(I)$, on a $a^4 + b^4 + c^4 = 9$ :"
   ]
  },
  {
   "cell_type": "code",
   "execution_count": 2,
   "metadata": {},
   "outputs": [
    {
     "name": "stdout",
     "output_type": "stream",
     "text": [
      "True\n"
     ]
    }
   ],
   "source": [
    "A.<a ,b ,c> = PolynomialRing(QQ, order = 'lex')\n",
    "I = A.ideal(a + b + c - 3, a^2 + b^2 + c^2 - 5, a^3 + b^3 + c^3 - 7)\n",
    "G = I.groebner_basis()\n",
    "P = a^4 + b^4 + c^4 - 9\n",
    "print(P.reduce(G) == 0)"
   ]
  },
  {
   "cell_type": "markdown",
   "metadata": {},
   "source": [
    "**2.**"
   ]
  },
  {
   "cell_type": "code",
   "execution_count": 4,
   "metadata": {},
   "outputs": [
    {
     "name": "stdout",
     "output_type": "stream",
     "text": [
      "29/3\n"
     ]
    }
   ],
   "source": [
    "P = a^5 + b^5 + c^5\n",
    "print(P.reduce(G))"
   ]
  },
  {
   "cell_type": "markdown",
   "metadata": {},
   "source": [
    "Ainsi $P - 29/3 \\in I$, donc $P(a,b,c) = 29/3$ pour tout $(a, b, c) \\in V(I)$, et donc $a^5 + b^5 + c^5 \\neq 11$ pour tout $(a,b,c) \\in V(I)$."
   ]
  },
  {
   "cell_type": "markdown",
   "metadata": {},
   "source": [
    "**3.** D'après la question précédente, $a^5 + b^5 + c^5 = 29/3$ pour tout $(a,b,c)$ satisfaisant le système de l'énoncé. "
   ]
  },
  {
   "cell_type": "code",
   "execution_count": 6,
   "metadata": {},
   "outputs": [
    {
     "name": "stdout",
     "output_type": "stream",
     "text": [
      "19/3\n"
     ]
    }
   ],
   "source": [
    "P = a^6 + b^6 + c^6\n",
    "print(P.reduce(G))"
   ]
  },
  {
   "cell_type": "markdown",
   "metadata": {},
   "source": [
    "De même, $a^6 + b^6 + c^6 = 19/3$ pour tous $(a, b, c)$ satisfaisant le système."
   ]
  }
 ],
 "metadata": {
  "kernelspec": {
   "display_name": "SageMath 8.1",
   "language": "",
   "name": "sagemath"
  },
  "language_info": {
   "codemirror_mode": {
    "name": "ipython",
    "version": 2
   },
   "file_extension": ".py",
   "mimetype": "text/x-python",
   "name": "python",
   "nbconvert_exporter": "python",
   "pygments_lexer": "ipython2",
   "version": "2.7.15rc1"
  }
 },
 "nbformat": 4,
 "nbformat_minor": 2
}
