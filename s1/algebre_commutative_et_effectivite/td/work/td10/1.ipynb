{
 "cells": [
  {
   "cell_type": "markdown",
   "metadata": {},
   "source": [
    "**Exercice 1**"
   ]
  },
  {
   "cell_type": "markdown",
   "metadata": {},
   "source": [
    "**1.**"
   ]
  },
  {
   "cell_type": "code",
   "execution_count": 10,
   "metadata": {},
   "outputs": [
    {
     "data": {
      "text/plain": [
       "[1.00000000000000,\n",
       " -0.500000000000000 - 0.866025403784439*I,\n",
       " -0.500000000000000 + 0.866025403784439*I]"
      ]
     },
     "execution_count": 10,
     "metadata": {},
     "output_type": "execute_result"
    }
   ],
   "source": [
    "_.<x> = QQ[]\n",
    "P =  x^3 - 1\n",
    "#Changer le corps dans lequel on résout l'équation dans roots !\n",
    "P.roots(CC, multiplicities = false)"
   ]
  },
  {
   "cell_type": "markdown",
   "metadata": {},
   "source": [
    "**2.** (Je sais pas si c'était ça qui était demandé à cette question)"
   ]
  },
  {
   "cell_type": "code",
   "execution_count": 11,
   "metadata": {},
   "outputs": [
    {
     "data": {
      "text/plain": [
       "[y == -1/18*(25*a^2 - 3)*(-I*sqrt(3) + 1)/(125/27*a^3 - 5/6*a + 1/6*sqrt(500/3*a^3 - 25/3*a^2 - 30*a + 31/3) + 1/2)^(1/3) - 1/2*(125/27*a^3 - 5/6*a + 1/6*sqrt(500/3*a^3 - 25/3*a^2 - 30*a + 31/3) + 1/2)^(1/3)*(I*sqrt(3) + 1) + 5/3*a, y == -1/18*(25*a^2 - 3)*(I*sqrt(3) + 1)/(125/27*a^3 - 5/6*a + 1/6*sqrt(500/3*a^3 - 25/3*a^2 - 30*a + 31/3) + 1/2)^(1/3) - 1/2*(125/27*a^3 - 5/6*a + 1/6*sqrt(500/3*a^3 - 25/3*a^2 - 30*a + 31/3) + 1/2)^(1/3)*(-I*sqrt(3) + 1) + 5/3*a, y == 5/3*a + 1/9*(25*a^2 - 3)/(125/27*a^3 - 5/6*a + 1/6*sqrt(500/3*a^3 - 25/3*a^2 - 30*a + 31/3) + 1/2)^(1/3) + (125/27*a^3 - 5/6*a + 1/6*sqrt(500/3*a^3 - 25/3*a^2 - 30*a + 31/3) + 1/2)^(1/3)]"
      ]
     },
     "execution_count": 11,
     "metadata": {},
     "output_type": "execute_result"
    }
   ],
   "source": [
    "var('a,y')\n",
    "eqn = y^3 - 5*a*y^2 + y - 1\n",
    "solve(eqn, y)"
   ]
  },
  {
   "cell_type": "markdown",
   "metadata": {},
   "source": [
    "**3.**"
   ]
  },
  {
   "cell_type": "code",
   "execution_count": 17,
   "metadata": {},
   "outputs": [
    {
     "data": {
      "text/plain": [
       "[-1.23606797749979, 1.16730397826142, 3.23606797749979]"
      ]
     },
     "execution_count": 17,
     "metadata": {},
     "output_type": "execute_result"
    }
   ],
   "source": [
    "P = x^7 - 2*x^6 - 4*x^5 - x^3 + x^2 + 6*x + 4\n",
    "P.roots(RR, multiplicities = false)"
   ]
  }
 ],
 "metadata": {
  "kernelspec": {
   "display_name": "SageMath 8.1",
   "language": "",
   "name": "sagemath"
  },
  "language_info": {
   "codemirror_mode": {
    "name": "ipython",
    "version": 2
   },
   "file_extension": ".py",
   "mimetype": "text/x-python",
   "name": "python",
   "nbconvert_exporter": "python",
   "pygments_lexer": "ipython2",
   "version": "2.7.15rc1"
  }
 },
 "nbformat": 4,
 "nbformat_minor": 2
}
