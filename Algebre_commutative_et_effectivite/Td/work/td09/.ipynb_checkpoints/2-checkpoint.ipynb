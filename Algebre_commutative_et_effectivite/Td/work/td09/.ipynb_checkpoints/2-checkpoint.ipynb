{
 "cells": [
  {
   "cell_type": "markdown",
   "metadata": {},
   "source": [
    "**Exercice 2**"
   ]
  },
  {
   "cell_type": "code",
   "execution_count": 15,
   "metadata": {},
   "outputs": [],
   "source": [
    "A.<x,y,z,t> = PolynomialRing(QQ, order = 'lex')\n",
    "L = [x + y - z, x^2 - 2*t^2, y^2 - 5*t^2]\n",
    "I = A.ideal(L)"
   ]
  },
  {
   "cell_type": "markdown",
   "metadata": {},
   "source": [
    "**1.**"
   ]
  },
  {
   "cell_type": "code",
   "execution_count": 16,
   "metadata": {},
   "outputs": [
    {
     "name": "stdout",
     "output_type": "stream",
     "text": [
      "[x + y - z, y^2 - 5*t^2, y*z - 1/2*z^2 - 3/2*t^2, y*t^2 + 1/6*z^3 - 17/6*z*t^2, z^4 - 14*z^2*t^2 + 9*t^4]\n"
     ]
    }
   ],
   "source": [
    "G = I.groebner_basis()\n",
    "print(G)"
   ]
  },
  {
   "cell_type": "markdown",
   "metadata": {},
   "source": [
    "**2**"
   ]
  },
  {
   "cell_type": "code",
   "execution_count": 17,
   "metadata": {},
   "outputs": [
    {
     "name": "stdout",
     "output_type": "stream",
     "text": [
      "[x - 1/6*z^3 + 11/6*z, y + 1/6*z^3 - 17/6*z, z^4 - 14*z^2 + 9]\n"
     ]
    }
   ],
   "source": [
    "B.<x,y,z> = PolynomialRing(QQ, order = 'lex')\n",
    "L2 = [x + y - z, x^2 - 2, y^2 - 5]\n",
    "I2 = A.ideal(L2)\n",
    "G2 = I2.groebner_basis()\n",
    "print(G2)"
   ]
  },
  {
   "cell_type": "markdown",
   "metadata": {},
   "source": [
    "On voit que $\\sqrt{2}$ est une racine de $x^2 - 2$, $\\sqrt{5}$ est racine de $y^2 - 5$. on a que $z = x + y$, donc $z^4 - 14z^2 + 9$ admet $\\sqrt{2} + \\sqrt{5}$ comme racine"
   ]
  },
  {
   "cell_type": "markdown",
   "metadata": {},
   "source": [
    "**3.** On calcule le résultant avec sage :"
   ]
  },
  {
   "cell_type": "code",
   "execution_count": 18,
   "metadata": {},
   "outputs": [
    {
     "data": {
      "text/plain": [
       "z^4 - 14*z^2 + 9"
      ]
     },
     "execution_count": 18,
     "metadata": {},
     "output_type": "execute_result"
    }
   ],
   "source": [
    "f = (y - z)^2 - 2\n",
    "g = y^2 - 5\n",
    "f.resultant(g, y)"
   ]
  },
  {
   "cell_type": "markdown",
   "metadata": {},
   "source": [
    "**4.** $\\supseteq$ est directe. Pour l'autre sens, on peut remarquer que $z^4 - 14z^2 + 9$ est le polynôme minimal de $\\sqrt{2} + \\sqrt{5}$, et conclure que $\\mathbb{Q}(\\sqrt{2} + \\sqrt{5})$ est de degré $4$ sur $\\mathbb{Q}$, et incluse dans $\\mathbb{Q}(\\sqrt{2}, \\sqrt{5})$ qui est aussi de degré $4$, d'où l'égalité. Autrement, on peut exprimer $\\sqrt{2}$, $\\sqrt{5}$ en fonction de $\\sqrt{2} + \\sqrt{5}$ en utilsant les polynômes de $G$ pour conclure l'autre inclusion."
   ]
  },
  {
   "cell_type": "code",
   "execution_count": 19,
   "metadata": {},
   "outputs": [
    {
     "data": {
      "text/plain": [
       "[x - 1/6*z^3 + 11/6*z, y + 1/6*z^3 - 17/6*z, z^4 - 14*z^2 + 9]"
      ]
     },
     "execution_count": 19,
     "metadata": {},
     "output_type": "execute_result"
    }
   ],
   "source": [
    "G2"
   ]
  }
 ],
 "metadata": {
  "kernelspec": {
   "display_name": "SageMath 8.1",
   "language": "",
   "name": "sagemath"
  },
  "language_info": {
   "codemirror_mode": {
    "name": "ipython",
    "version": 2
   },
   "file_extension": ".py",
   "mimetype": "text/x-python",
   "name": "python",
   "nbconvert_exporter": "python",
   "pygments_lexer": "ipython2",
   "version": "2.7.15rc1"
  }
 },
 "nbformat": 4,
 "nbformat_minor": 2
}
