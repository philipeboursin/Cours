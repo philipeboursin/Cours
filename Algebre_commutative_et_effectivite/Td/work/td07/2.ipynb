{
 "cells": [
  {
   "cell_type": "markdown",
   "metadata": {},
   "source": [
    "**Exercice 2**"
   ]
  },
  {
   "cell_type": "code",
   "execution_count": 7,
   "metadata": {},
   "outputs": [],
   "source": [
    "def sfg(f, g):\n",
    "    A = f.parent()\n",
    "    inter = lcm(f.lm(), g.lm())\n",
    "    return A(f*inter/f.lt() - g*inter/g.lt())\n",
    "\n",
    "def div_mult(f, L):\n",
    "    g = f\n",
    "    Q = [0 for i in range(len(L))]\n",
    "    R = 0\n",
    "    while g != 0:\n",
    "        b = True\n",
    "        i = 0\n",
    "        glm = g.lt()\n",
    "        while b and i < len(L):\n",
    "            Lilm = L[i].lt()\n",
    "            if glm % Lilm == 0:\n",
    "                g -= L[i]*(glm // Lilm)\n",
    "                Q[i] += glm // Lilm\n",
    "                b = False\n",
    "            i += 1\n",
    "        if b:\n",
    "            g -= glm\n",
    "            R += glm\n",
    "    return Q, R\n",
    "\n",
    "def is_grob(L):\n",
    "    b = True\n",
    "    for i in range(len(L)):\n",
    "        for j in range(i):\n",
    "            _,R = div_mult(sfg(L[i], L[j]), L)\n",
    "            b = b & (R == 0)\n",
    "    return b"
   ]
  },
  {
   "cell_type": "markdown",
   "metadata": {},
   "source": [
    "**1.**"
   ]
  },
  {
   "cell_type": "code",
   "execution_count": 8,
   "metadata": {},
   "outputs": [
    {
     "name": "stdout",
     "output_type": "stream",
     "text": [
      "False\n",
      "False\n"
     ]
    }
   ],
   "source": [
    "A.<x,y,z> = PolynomialRing(QQ, order = 'deglex')\n",
    "L = [x^2 - y, x^3 - z]\n",
    "print(is_grob(L))\n",
    "# Ou\n",
    "print(A.ideal(L).basis_is_groebner())"
   ]
  },
  {
   "cell_type": "markdown",
   "metadata": {},
   "source": [
    "**2.**"
   ]
  },
  {
   "cell_type": "code",
   "execution_count": 9,
   "metadata": {},
   "outputs": [
    {
     "name": "stdout",
     "output_type": "stream",
     "text": [
      "True\n",
      "False\n"
     ]
    }
   ],
   "source": [
    "A = A.change_ring(order = 'lex', names = 'z,y,x')\n",
    "L = [A(l) for l in L]\n",
    "print(is_grob(L))\n",
    "A = A.change_ring(order = 'lex', names = 'x,y,z')\n",
    "L = [A(l) for l in L]\n",
    "print(is_grob(L))"
   ]
  },
  {
   "cell_type": "markdown",
   "metadata": {},
   "source": [
    "**3.**"
   ]
  },
  {
   "cell_type": "code",
   "execution_count": 10,
   "metadata": {},
   "outputs": [
    {
     "name": "stdout",
     "output_type": "stream",
     "text": [
      "False\n"
     ]
    }
   ],
   "source": [
    "A = A.change_ring(order = 'lex')\n",
    "L = [x*y^2 - x*z + y, x*y - z^2, x - y*z^4]\n",
    "print(is_grob(L))"
   ]
  }
 ],
 "metadata": {
  "kernelspec": {
   "display_name": "SageMath 8.1",
   "language": "",
   "name": "sagemath"
  },
  "language_info": {
   "codemirror_mode": {
    "name": "ipython",
    "version": 2
   },
   "file_extension": ".py",
   "mimetype": "text/x-python",
   "name": "python",
   "nbconvert_exporter": "python",
   "pygments_lexer": "ipython2",
   "version": "2.7.15rc1"
  }
 },
 "nbformat": 4,
 "nbformat_minor": 2
}
