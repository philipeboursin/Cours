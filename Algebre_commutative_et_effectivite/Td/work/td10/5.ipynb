{
 "cells": [
  {
   "cell_type": "markdown",
   "metadata": {},
   "source": [
    "**Exercice 5**"
   ]
  },
  {
   "cell_type": "code",
   "execution_count": 3,
   "metadata": {},
   "outputs": [
    {
     "name": "stdout",
     "output_type": "stream",
     "text": [
      "True\n"
     ]
    }
   ],
   "source": [
    "A.<x, y> = QQ[]\n",
    "I = A.ideal(x^2*y + x*y^2 - 2*y, x^2 + x*y - x + y^2 - 2*y, x*y^2 - x - y + y^3)\n",
    "J = A.ideal(x - y^2, x*y - y, x^2 - y)\n",
    "GI = I.groebner_basis()\n",
    "GJ = J.groebner_basis()\n",
    "print(set(GI) == set(GJ))"
   ]
  },
  {
   "cell_type": "markdown",
   "metadata": {},
   "source": [
    "Ainsi $I = \\langle G_I \\rangle = \\langle G_J \\rangle = J$"
   ]
  }
 ],
 "metadata": {
  "kernelspec": {
   "display_name": "SageMath 8.1",
   "language": "",
   "name": "sagemath"
  },
  "language_info": {
   "codemirror_mode": {
    "name": "ipython",
    "version": 2
   },
   "file_extension": ".py",
   "mimetype": "text/x-python",
   "name": "python",
   "nbconvert_exporter": "python",
   "pygments_lexer": "ipython2",
   "version": "2.7.15rc1"
  }
 },
 "nbformat": 4,
 "nbformat_minor": 2
}
