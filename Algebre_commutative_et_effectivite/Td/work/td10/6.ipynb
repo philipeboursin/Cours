{
 "cells": [
  {
   "cell_type": "markdown",
   "metadata": {},
   "source": [
    "**Exercice 6**"
   ]
  },
  {
   "cell_type": "markdown",
   "metadata": {},
   "source": [
    "**1.** Comme la base de Groebner réduite est unique pour un idéal, si deux idéaux ont une base de Groebner réduite différente, alors ils ne peuvent pas être égaux. Et sage calcule toujours la base de Groebner réduite associée à un idéal, ainsi le calcul suivant prouove que $I \\neq J$ :"
   ]
  },
  {
   "cell_type": "code",
   "execution_count": 2,
   "metadata": {},
   "outputs": [
    {
     "name": "stdout",
     "output_type": "stream",
     "text": [
      "False\n"
     ]
    }
   ],
   "source": [
    "A.<x, y, z> = PolynomialRing(QQ)\n",
    "I = A.ideal(x^2 + x*z, y + y^4 + x*z^2 - 3*z, y + 2*x^2*y^2 + x*z^2)\n",
    "J = A.ideal(x^3 + y*z + x*y, x*y*z + 2*y^2*z^2 - 3*x, x^3*y - z^2)\n",
    "GI = I.groebner_basis()\n",
    "GJ = J.groebner_basis()\n",
    "print(set(GI) == set(GJ))"
   ]
  },
  {
   "cell_type": "markdown",
   "metadata": {},
   "source": [
    "**2.** Pour vérifier que $I \\subset J$, on peut utiliser la commande in de sage sur les générateurs de $I$, sinon on peut aussi regarder si la réduction selon $G_J$ des générateurs de $I$ vaut $0$ :"
   ]
  },
  {
   "cell_type": "code",
   "execution_count": 9,
   "metadata": {},
   "outputs": [
    {
     "name": "stdout",
     "output_type": "stream",
     "text": [
      "False\n"
     ]
    }
   ],
   "source": [
    "b = True\n",
    "for f in I.gens():\n",
    "    b = b and (f.reduce(GJ) == 0)\n",
    "    \n",
    "print(b)"
   ]
  },
  {
   "cell_type": "markdown",
   "metadata": {},
   "source": [
    "**3.** De manière similaire,"
   ]
  },
  {
   "cell_type": "code",
   "execution_count": 10,
   "metadata": {},
   "outputs": [
    {
     "name": "stdout",
     "output_type": "stream",
     "text": [
      "False\n"
     ]
    }
   ],
   "source": [
    "b = True\n",
    "for f in J.gens():\n",
    "    b = b and (f.reduce(GI) == 0)\n",
    "    \n",
    "print(b)"
   ]
  }
 ],
 "metadata": {
  "kernelspec": {
   "display_name": "SageMath 8.1",
   "language": "",
   "name": "sagemath"
  },
  "language_info": {
   "codemirror_mode": {
    "name": "ipython",
    "version": 2
   },
   "file_extension": ".py",
   "mimetype": "text/x-python",
   "name": "python",
   "nbconvert_exporter": "python",
   "pygments_lexer": "ipython2",
   "version": "2.7.15rc1"
  }
 },
 "nbformat": 4,
 "nbformat_minor": 2
}
