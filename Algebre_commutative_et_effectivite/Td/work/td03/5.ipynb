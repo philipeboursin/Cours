{
 "cells": [
  {
   "cell_type": "markdown",
   "metadata": {},
   "source": [
    "**Exercice 5**"
   ]
  },
  {
   "cell_type": "markdown",
   "metadata": {},
   "source": [
    "**1.** Ordre deglex ici, vu qu'il est ordonné pour deglex mais pas pour degrevlex ($2xy^6 >_{degrevlex} 7x^2y^4z$) ni pour lex ($x^2y^2 >_{lex} 2xy^6$)"
   ]
  },
  {
   "cell_type": "markdown",
   "metadata": {},
   "source": [
    "**2.** Ordre degrevlex ici, vu qu'il est ordonné pour degrevlex mais pas pour deglex ni pour lex ($x^2z^3 >_{deglex, lex} xy^3z$)"
   ]
  },
  {
   "cell_type": "markdown",
   "metadata": {},
   "source": [
    "**3.** Ordre lex ici, vu qu'il est ordonné pour lex mais pas pour degrevlex ni deglex ($xy^2z^4 >_{deglex, degrevlex} x^3y^2z$)"
   ]
  }
 ],
 "metadata": {
  "kernelspec": {
   "display_name": "SageMath 8.1",
   "language": "",
   "name": "sagemath"
  },
  "language_info": {
   "codemirror_mode": {
    "name": "ipython",
    "version": 2
   },
   "file_extension": ".py",
   "mimetype": "text/x-python",
   "name": "python",
   "nbconvert_exporter": "python",
   "pygments_lexer": "ipython2",
   "version": "2.7.15rc1"
  }
 },
 "nbformat": 4,
 "nbformat_minor": 2
}
