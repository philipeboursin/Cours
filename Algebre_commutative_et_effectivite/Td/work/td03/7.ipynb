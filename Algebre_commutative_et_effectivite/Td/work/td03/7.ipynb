{
 "cells": [
  {
   "cell_type": "markdown",
   "metadata": {},
   "source": [
    "**Exercice 7**"
   ]
  },
  {
   "cell_type": "code",
   "execution_count": 9,
   "metadata": {},
   "outputs": [],
   "source": [
    "def div_mult(f, L):\n",
    "    g = f\n",
    "    Q = [0 for i in range(len(L))]\n",
    "    R = 0\n",
    "    while g != 0:\n",
    "        b = True\n",
    "        i = 0\n",
    "        glm = g.lt()\n",
    "        while b and i < len(L):\n",
    "            Lilm = L[i].lt()\n",
    "            if glm % Lilm == 0:\n",
    "                g -= L[i]*(glm // Lilm)\n",
    "                Q[i] += glm // Lilm\n",
    "                b = False\n",
    "            i += 1\n",
    "        if b:\n",
    "            g -= glm\n",
    "            R += glm\n",
    "    return Q, R"
   ]
  },
  {
   "cell_type": "markdown",
   "metadata": {},
   "source": [
    "**1.** On réalise la division euclidienne de $f$ vu d'abord comme un élément de $k[x,z][y]$ par $y - x^2$. On a $f = h_1(y - x^2) + r'$ avec $r' \\in k[x,z][y]$ de degré $< 1$ en $y$, donc qui peut être vu comme un polynôme de $k[x,z]$. Ensuite, on regarde $r'$ comme un élément de $k[x][z]$ et on réalise la division euclidienne de celui ci par $z - x^3$ : $r = h_2(z - x^3) + r$ avec $r \\in k[x][z]$ de degré $< 1$ donc qui peut être vu comme un polynôme de $k[x]$. Ainsi on peut écrire tout $f \\in k[x,y,z]$ comme $f = h_1(y - x^2) + h_2(z - x^3) + r$ avec $r \\in k[x]$. Sinon on peut aussi réaliser l'algorithme de division multivariée avec l'ordre lexicographique inversé ($z > y > x$)."
   ]
  },
  {
   "cell_type": "markdown",
   "metadata": {},
   "source": [
    "**2.**"
   ]
  },
  {
   "cell_type": "code",
   "execution_count": 14,
   "metadata": {},
   "outputs": [
    {
     "name": "stdout",
     "output_type": "stream",
     "text": [
      "(-x^4, z + x^3)\n",
      "True\n",
      "[-x^4, z + x^3]\n"
     ]
    }
   ],
   "source": [
    "A.<x,y,z> = QQ[]\n",
    "f = z^2 - x^4*y\n",
    "g1 = y - x^2\n",
    "g2 = z - x^3\n",
    "\n",
    "\n",
    "h1, r1 = f.polynomial(y).quo_rem(g1.polynomial(y))\n",
    "h2, r = A(r1).polynomial(z).quo_rem(g2.polynomial(z))\n",
    "print(h1, h2)\n",
    "\n",
    "#ou sinon\n",
    "A = A.change_ring(order = 'invlex')\n",
    "f = A(f)\n",
    "g1 = A(g1)\n",
    "g2 = A(g2)\n",
    "I = A.ideal(g1, g2)\n",
    "print(f in I)\n",
    "print(f.lift(I))"
   ]
  },
  {
   "cell_type": "markdown",
   "metadata": {},
   "source": [
    "Ainsi on fait l'hypothèse que $z^2 - x^4y = -x^4(y - x^2) + (z + x^3)(z - x^3)$. Pour vérifier cela, on fait le calcul :\n",
    "\\begin{align*}\n",
    "    -x^4(y - x^2) + (z + x^3)(z - x^3) &= z^2 - x^6 + x^6 - x^4y = z^2 - x^4y\n",
    "\\end{align*}"
   ]
  }
 ],
 "metadata": {
  "kernelspec": {
   "display_name": "SageMath 8.1",
   "language": "",
   "name": "sagemath"
  },
  "language_info": {
   "codemirror_mode": {
    "name": "ipython",
    "version": 2
   },
   "file_extension": ".py",
   "mimetype": "text/x-python",
   "name": "python",
   "nbconvert_exporter": "python",
   "pygments_lexer": "ipython2",
   "version": "2.7.15rc1"
  }
 },
 "nbformat": 4,
 "nbformat_minor": 2
}
