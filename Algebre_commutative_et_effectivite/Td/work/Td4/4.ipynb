{
 "cells": [
  {
   "cell_type": "markdown",
   "metadata": {},
   "source": [
    "**Exercice 4.4**"
   ]
  },
  {
   "cell_type": "markdown",
   "metadata": {},
   "source": [
    "**1.** Si $x^\\beta \\in I$, alors \n",
    "\\begin{align*}\n",
    "    x^\\beta = \\sum_{finie} P_i x^{\\alpha_i}\n",
    "\\end{align*}\n",
    "Maitenant en développant chaque $P_i$, on obtiens une somme finie dont tous les monômes sont divisibles par un $x^\\alpha_i$, puis $x^\\beta$ est forcément égal à un de ces monômes et ainsi il existe $i$ tel que $x^{\\alpha_i} \\mid x^{\\beta}$."
   ]
  },
  {
   "cell_type": "markdown",
   "metadata": {},
   "source": [
    "**2.** Si $f \\in I$, alors\n",
    "\\begin{align*}\n",
    "    f = \\sum_{i = 1}^r P_i x^{\\alpha_i}\n",
    "\\end{align*}\n",
    "et en développant les $P_i$ il est clair que les monômes de $f$ sont dans $I$, tous multiples d'un $x^\\alpha_i$ pour un certain $i$."
   ]
  },
  {
   "cell_type": "markdown",
   "metadata": {},
   "source": [
    "**3.** Posons $G = (x^{\\alpha_i})_i$. Alors $(LT(G)) = (x^{\\alpha_1}, \\cdots, x^{\\alpha_r}) = I$. Il faut prouver que $(LT(I)) \\subseteq I$. Maintenant soit $x^\\beta \\in LT(I)$, alors $\\exists f \\in I$ tel que $LT(f) = x^\\beta$. Maintenant comme $f \\in I$, d'après la question précédente tous ses monômes sont dans $I$. Ainsi $x^\\beta \\in I$."
   ]
  }
 ],
 "metadata": {
  "kernelspec": {
   "display_name": "SageMath 8.1",
   "language": "",
   "name": "sagemath"
  },
  "language_info": {
   "codemirror_mode": {
    "name": "ipython",
    "version": 2
   },
   "file_extension": ".py",
   "mimetype": "text/x-python",
   "name": "python",
   "nbconvert_exporter": "python",
   "pygments_lexer": "ipython2",
   "version": "2.7.15rc1"
  }
 },
 "nbformat": 4,
 "nbformat_minor": 2
}
