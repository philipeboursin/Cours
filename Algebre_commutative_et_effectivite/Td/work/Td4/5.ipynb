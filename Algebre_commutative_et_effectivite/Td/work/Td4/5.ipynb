{
 "cells": [
  {
   "cell_type": "markdown",
   "metadata": {},
   "source": [
    "**Exercice 5**"
   ]
  },
  {
   "cell_type": "markdown",
   "metadata": {},
   "source": [
    "**1)** Remarquons que\n",
    "\\begin{align*}\n",
    "    A + \\mathbb{N}^n = \\bigcup_{a \\in A} a + \\mathbb{N}^n\n",
    "\\end{align*}\n",
    "En fait, plus généralement, on a\n",
    "\\begin{align*}\n",
    "    \\bigcup_{i \\in I} (A_i + \\mathbb{N}^n) = \\left( \\bigcup_{i \\in I} A_i \\right) + \\mathbb{N}^n\n",
    "\\end{align*}\n",
    "En effet, si $x \\in \\bigcup_{i \\in I} (A_i + \\mathbb{N}^n)$, alors $\\exists i \\in I$ tel que $x \\in A_i + \\mathbb{N}^n$, donc $x \\in \\left( \\bigcup_{i \\in I} A_i \\right) + \\mathbb{N}^n$ comme $A_i \\subseteq \\bigcup_{i \\in I} A_i$. Réciproquement, si $x \\in \\left( \\bigcup_{i \\in I} A_i \\right) + \\mathbb{N}^n$, alors $x = a + b$ avec $a \\in \\bigcup_{i \\in I} A_i$. Ainsi il existe $i \\in I$ tel que $a \\in A_i$ et alors $x \\in A_i + \\mathbb{N}^n \\subseteq \\bigcup_{i \\in I} (A_i + \\mathbb{N}^n)$. Illustrons les exemples de la question :\n",
    "\n",
    "<img src=\"1.jpg\" width=\"200\"/>\n",
    "<img src=\"2.jpg\" width=\"200\"/>"
   ]
  },
  {
   "cell_type": "markdown",
   "metadata": {},
   "source": [
    "Avant de démontrer le lemme, remarquons que $x^\\gamma \\in (x^\\alpha \\mid \\alpha \\in A) = I$ si et seulement si $\\gamma \\in A + \\mathbb{N}^n$. En effet, si $x^\\gamma \\in I$, alors $\\exists \\alpha \\in A$ tel que $x^\\alpha \\mid x^\\gamma$ et donc $\\gamma = \\alpha + \\beta \\in A + \\mathbb{N}^n$. Réciproquement, si $\\gamma \\in A + \\mathbb{N}^n$, alors $\\gamma = \\alpha + \\beta$ avec $\\alpha \\in A$, et donc $x^\\alpha \\mid x^\\gamma$ donc $x^\\gamma \\in I$. Ainsi $(x^\\alpha \\mid \\alpha \\in A) = (x^\\beta \\mid \\beta \\in B) \\iff A + \\mathbb{N}^n = B + \\mathbb{N}^n$, et ainsi on peut reformuler le lemme comme \"il existe $B \\subseteq A$ finie telle que $A + \\mathbb{N}^n = B + \\mathbb{N}^n$."
   ]
  },
  {
   "cell_type": "markdown",
   "metadata": {},
   "source": [
    "**2)** Si $n = 1$, notons $\\alpha_0 = \\min A$, alors $\\alpha_0 + \\mathbb{N} = A + \\mathbb{N}$ et la récurrence est initialisée."
   ]
  },
  {
   "cell_type": "markdown",
   "metadata": {},
   "source": [
    "**3)** Si $A + \\mathbb{N}^n = \\alpha + \\mathbb{N}^n$, alors le lemme est prouvé au vu des remarques faites avant la question 2."
   ]
  },
  {
   "cell_type": "markdown",
   "metadata": {},
   "source": [
    "**4)** Considérons le morphisme (de groupes abéliens) de projection\n",
    "\\begin{align*}\n",
    "    \\begin{array}{cccc}\n",
    "        \\varphi : & \\mathbb{N}^n & \\to & \\mathbb{N}^{n-1} \\\\\n",
    "        & \\alpha & \\mapsto & (\\alpha_1, \\cdots, \\alpha_{i-1}, \\alpha_{i+1}, \\cdots, \\alpha_{n}) \\\\\n",
    "    \\end{array}\n",
    "\\end{align*}\n",
    "Remarquons alors que $\\varphi$ induit une bijection $\\tilde \\varphi : A_{i,c} \\to B_{i,c}$. Maintenant comme $B_{i,c} \\subseteq \\mathbb{N}^{n-1}$, par récurrence il existe une famille finie $\\tilde B_{i,c} = \\{\\beta_{i,c,j}\\}_{1 \\leq j \\leq m_{i,c}}$ telle que $\\tilde B_{i,c} + \\mathbb{N}^{n-1} = B_{i,c} + \\mathbb{N}^{n-1}$. Alors considérons la famille (finie car $\\tilde \\varphi$ est une bijection) $\\tilde A_{i,c} := \\tilde \\varphi^{-1}(\\tilde B_{i,c})$, soit $\\gamma \\in A_{i,c}$, alors $\\tilde \\varphi(\\gamma) \\in B_{i,c}$ et donc $\\tilde \\varphi(\\gamma) \\in \\tilde B_{i,c} + \\mathbb{N}^{n-1}$. Notons alors $\\tilde \\varphi(\\gamma) = \\beta + \\delta$, avec $\\beta \\in \\tilde B_{i,c}$, on a finalement \n",
    "\\begin{align*}\n",
    "    \\gamma = \\tilde \\varphi^{-1}(\\beta + \\delta) = \\tilde \\varphi^{-1}(\\beta) + \\tilde \\delta \\in \\tilde A_{i,c} + \\mathbb{N}^n\n",
    "\\end{align*}\n",
    "où $\\tilde \\delta = (\\delta_1, \\cdots, \\delta_{i-1}, 0, \\delta_i, \\cdots, \\delta_n)$, et donc $x^\\gamma \\in (x^{\\alpha'} \\mid \\alpha' \\in \\tilde A_{i,c})$ au vu des remarques faites précédemment. On a ainsi montré que $\\tilde A_{i,c} + \\mathbb{N}^n = A_{i,c} + \\mathbb{N}^n$."
   ]
  },
  {
   "cell_type": "markdown",
   "metadata": {},
   "source": [
    "**5)** L'ensemble $T = \\{(c,i) \\in \\mathbb{N} \\times \\{1, \\cdots, n\\} \\mid c < \\alpha_i\\}$ est fini. Ainsi pour chaque $(i,c)$ considérons un ensemble fini $\\tilde A_{i,c} \\subseteq A_{i,c}$ tel que $\\tilde A_{i,c} + \\mathbb{N}^n = A_{i,c} + \\mathbb{N}^n$, alors l'ensemble $\\{\\alpha\\} \\cup \\bigcup_{(i,c) \\in T} \\tilde A_{i,c} \\subseteq A$ est fini, et on a\n",
    "\\begin{align*}\n",
    "    \\left( \\{\\alpha\\} \\cup \\bigcup_{(i,c) \\in T} \\tilde A_{i,c} \\right) + \\mathbb{N}^n &= (\\{\\alpha\\} + \\mathbb{N}^n) \\cup \\bigcup_{(i,c) \\in T} (\\tilde A_{i,c} + \\mathbb{N}^n) \\\\\n",
    "    &= (\\{\\alpha\\} + \\mathbb{N}^n) \\cup \\bigcup_{(i,c) \\in T} (A_{i,c} + \\mathbb{N}^n) \\\\\n",
    "    &= ((\\{\\alpha\\} + \\mathbb{N}^n) + \\mathbb{N}^n) \\cup \\left( \\bigcup_{(i,c) \\in T} A_{i,c} \\right) + \\mathbb{N}^n \\\\\n",
    "    &= \\left( (\\{\\alpha\\} + \\mathbb{N}^n) \\cup \\bigcup_{(i,c) \\in T} A_{i,c} \\right) + \\mathbb{N}^n \\\\\n",
    "    &= A + \\mathbb{N}^n\n",
    "\\end{align*}\n",
    "vu que $A = (\\{\\alpha\\} + \\mathbb{N}^n) \\cup \\bigcup_{(i,c) \\in T} A_{i,c}$ au vu de la construction des $A_{i,c}$."
   ]
  },
  {
   "cell_type": "markdown",
   "metadata": {},
   "source": [
    "**6.** Considérons $A = \\{\\beta \\in \\mathbb{N}^n \\mid x^\\beta \\in LT(I)\\}$. Alors il est clair que $(LT(I)) = (x^{\\alpha} \\mid \\alpha \\in A)$. Ainsi d'après le lemme de Dickson, il existe une famille finie $\\alpha_1, \\cdots, \\alpha_r$ telle que $(LT(I)) = (x^{\\alpha_1}, \\cdots, x^{\\alpha_r})$. Maintenant les $\\alpha_i$ sont dans $S$, donc $x^{\\alpha_i} \\in LT(I)$, donc il existe $f_i \\in I$ tel que $LT(f_i) = x^{\\alpha_i}$ et ainsi $(LT(I)) = (LT(f_1), \\cdots, LT(f_r))$."
   ]
  },
  {
   "cell_type": "markdown",
   "metadata": {},
   "source": [
    "**7.** Considérons $R$ le reste de la division de $f$ par $f_1, \\cdots, f_r$. Ecrivons $f = \\sum Q_i f_i + R$, alors $f - \\sum Q_i f_i$ est dans $I$ et ainsi $LT(R) \\in LT(I)$ et donc $LT(R) \\in (LT(f_1), \\cdots, LT(f_r))$. $(LT(f_i))$ est un idéal monomial, et ainsi il existe $i$ tel que $LT(f_i) \\mid LT(R)$, et ainsi $LT(R)$ vaut forcément $0$, et donc $R$ vaut $0$. Finalement, pour tout $f \\in I$, $f \\in (f_1, \\cdots, f_r)$ en réalisant la division multivariée de $f$ par $f_1, \\cdots, f_r$."
   ]
  }
 ],
 "metadata": {
  "kernelspec": {
   "display_name": "SageMath 8.1",
   "language": "",
   "name": "sagemath"
  },
  "language_info": {
   "codemirror_mode": {
    "name": "ipython",
    "version": 2
   },
   "file_extension": ".py",
   "mimetype": "text/x-python",
   "name": "python",
   "nbconvert_exporter": "python",
   "pygments_lexer": "ipython2",
   "version": "2.7.15rc1"
  }
 },
 "nbformat": 4,
 "nbformat_minor": 2
}
