{
 "cells": [
  {
   "cell_type": "markdown",
   "metadata": {},
   "source": [
    "**Exercice 8**"
   ]
  },
  {
   "cell_type": "markdown",
   "metadata": {},
   "source": [
    "Remarquons dans un premier temps que $x^\\alpha <_M x^\\beta \\iff M\\alpha <_{lex} M\\beta$."
   ]
  },
  {
   "cell_type": "markdown",
   "metadata": {},
   "source": [
    "**1)** Si $x^\\alpha <_M x^\\beta$ et $x^\\gamma <_M x^\\delta$, alors $M\\alpha <_{lex} M\\beta$ et $M\\gamma <_{lex} M\\delta$. Ainsi $M(\\alpha + \\gamma) = M\\alpha + M\\gamma <_{lex} M\\beta + M\\delta = M(\\beta + \\delta)$ et donc $x^{\\alpha + \\gamma} <_M x^{\\beta + \\delta}$\n"
   ]
  },
  {
   "cell_type": "markdown",
   "metadata": {},
   "source": [
    "**2)** Si $M = \\mathrm{I}_n$, alors\n",
    "\\begin{align*}\n",
    "    x^\\alpha <_M x^\\beta \\iff M\\alpha <_{lex} M\\beta \\iff  \\alpha <_{lex} \\beta \\iff x^\\alpha <_{lex} x^\\beta\n",
    "\\end{align*}"
   ]
  },
  {
   "cell_type": "markdown",
   "metadata": {},
   "source": [
    "**3)** Les points A et B sont clairs (au vu des propriétés de $<_{lex}$). Pour le dernier point, si $\\alpha \\neq \\beta$, alors $\\alpha - \\beta \\neq 0$ et donc $M\\alpha \\neq M\\beta$ par hypothèse. Ainsi au vu de la remarque et du fait que $<_{lex}$ est un ordre total, on a soit $x^\\alpha <_M x^\\beta$, soit $x^\\beta <_M x^\\alpha$."
   ]
  },
  {
   "cell_type": "markdown",
   "metadata": {},
   "source": [
    "**4)** Il suffit de vérifier que $1 \\leq_M x^\\alpha$, pour tout $\\alpha \\in \\mathbb{N}^n$. Mais comme $M$ a des coefficients positifs, $M\\alpha \\in \\mathbb{N}^n$, et donc toujours au vu de la remarque de la question précédente, $<_M$ est bien un ordre total."
   ]
  },
  {
   "cell_type": "markdown",
   "metadata": {},
   "source": [
    "**5)** Pour lex, on prend $M = I_n$. Pour deglex, on prend\n",
    "\\begin{align*}\n",
    "    \\begin{bmatrix}\n",
    "        1 & 1 & \\cdots & \\cdots & 1 \\\\\n",
    "        1 & 0 & \\cdots & \\cdots & 0 \\\\\n",
    "        0 & \\ddots & \\ddots & 0 & \\vdots \\\\\n",
    "        \\vdots & \\ddots & \\ddots & \\ddots & \\vdots \\\\\n",
    "        0 & \\cdots & 0 & 1 & 0 \\\\\n",
    "    \\end{bmatrix}\n",
    "\\end{align*}\n",
    "Pour degrevlex, on prend\n",
    "\\begin{align*}\n",
    "    \\begin{bmatrix}\n",
    "        1 & \\cdots & \\cdots & 1 & 1 \\\\\n",
    "        0 & \\cdots & \\cdots & 0 & -1 \\\\\n",
    "        \\vdots & 0 & \\ddots & \\ddots & 0 \\\\\n",
    "        \\vdots & \\ddots & \\ddots & \\ddots & \\vdots \\\\\n",
    "        0 & -1 & 0 & \\cdots & 0 \\\\\n",
    "    \\end{bmatrix}\n",
    "\\end{align*}\n"
   ]
  }
 ],
 "metadata": {
  "kernelspec": {
   "display_name": "SageMath 8.1",
   "language": "",
   "name": "sagemath"
  },
  "language_info": {
   "codemirror_mode": {
    "name": "ipython",
    "version": 2
   },
   "file_extension": ".py",
   "mimetype": "text/x-python",
   "name": "python",
   "nbconvert_exporter": "python",
   "pygments_lexer": "ipython2",
   "version": "2.7.15rc1"
  }
 },
 "nbformat": 4,
 "nbformat_minor": 2
}
