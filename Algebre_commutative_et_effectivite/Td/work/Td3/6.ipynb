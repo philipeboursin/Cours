{
 "cells": [
  {
   "cell_type": "markdown",
   "metadata": {},
   "source": [
    "**Exercice 6**"
   ]
  },
  {
   "cell_type": "code",
   "execution_count": 26,
   "metadata": {},
   "outputs": [],
   "source": [
    "A.<x,y> = PolynomialRing(QQ, 2, order = 'lex')\n",
    "f = x^7*y^2 + x^3*y^2 - y - 1\n",
    "F = [x*y^2 - x, x - y^3]\n",
    "F.reverse()"
   ]
  },
  {
   "cell_type": "markdown",
   "metadata": {},
   "source": [
    "**1.**"
   ]
  },
  {
   "cell_type": "code",
   "execution_count": 28,
   "metadata": {},
   "outputs": [
    {
     "name": "stdout",
     "output_type": "stream",
     "text": [
      "(x^7*y^2 + x^3*y^2 - y - 1, [x - y^3, x*y^2 - x], x^7*y^2 + x^3*y^2 - y - 1, [-y^3 + x, x*y^2 - x])\n",
      "Ordre lexico : y^23 + y^11 - y - 1\n",
      "Ordre lexico gradué : x^7 + x^3 - y - 1\n"
     ]
    }
   ],
   "source": [
    "B = A.change_ring(order = 'deglex')\n",
    "g = B(f)\n",
    "G = [B(ff) for ff in F]\n",
    "print(f, F, g, G)\n",
    "print(\"Ordre lexico : \" + str(f.reduce(F)))\n",
    "print(\"Ordre lexico gradué : \" + str(g.reduce(G)))"
   ]
  },
  {
   "cell_type": "markdown",
   "metadata": {},
   "source": [
    "**2.**"
   ]
  },
  {
   "cell_type": "code",
   "execution_count": 30,
   "metadata": {},
   "outputs": [
    {
     "name": "stdout",
     "output_type": "stream",
     "text": [
      "Ordre lexico : y^23 + y^11 - y - 1\n",
      "Ordre lexico gradué : x^7 + x^3 - y - 1\n"
     ]
    }
   ],
   "source": [
    "F.reverse()\n",
    "G.reverse()\n",
    "print(\"Ordre lexico : \" + str(f.reduce(F)))\n",
    "print(\"Ordre lexico gradué : \" + str(g.reduce(G)))"
   ]
  }
 ],
 "metadata": {
  "kernelspec": {
   "display_name": "SageMath 8.1",
   "language": "",
   "name": "sagemath"
  },
  "language_info": {
   "codemirror_mode": {
    "name": "ipython",
    "version": 2
   },
   "file_extension": ".py",
   "mimetype": "text/x-python",
   "name": "python",
   "nbconvert_exporter": "python",
   "pygments_lexer": "ipython2",
   "version": "2.7.15rc1"
  }
 },
 "nbformat": 4,
 "nbformat_minor": 2
}
