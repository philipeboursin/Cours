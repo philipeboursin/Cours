{
 "cells": [
  {
   "cell_type": "code",
   "execution_count": 2,
   "metadata": {},
   "outputs": [
    {
     "name": "stdout",
     "output_type": "stream",
     "text": [
      "-2*x^3\n"
     ]
    }
   ],
   "source": [
    "_.<x,y> = PolynomialRing(QQ, 2, order = 'lex')\n",
    "P = -2*x^3 + y^2\n",
    "print(P.lt())"
   ]
  },
  {
   "cell_type": "code",
   "execution_count": 90,
   "metadata": {},
   "outputs": [
    {
     "name": "stdout",
     "output_type": "stream",
     "text": [
      "(x^2 * (x^8 + x^7 + 4*x^6 - 1/2*x^5 + 3*x^4 + 3*x^3 - x^2 - 3*x + 1), (-8) * x * (x^6 + 2/9*x^5 + 1/8*x^4 - 1/8*x^3 + 7/4*x^2 - 1/32*x - 87/8))\n",
      "0\n"
     ]
    }
   ],
   "source": [
    "A.<x> = QQ[]\n",
    "P = A.random_element(10)\n",
    "Q = A.random_element(7)\n",
    "M = P.sylvester_matrix(Q)\n",
    "print(P.factor(), Q.factor())\n",
    "print(M.determinant())"
   ]
  }
 ],
 "metadata": {
  "kernelspec": {
   "display_name": "SageMath 8.1",
   "language": "",
   "name": "sagemath"
  },
  "language_info": {
   "codemirror_mode": {
    "name": "ipython",
    "version": 2
   },
   "file_extension": ".py",
   "mimetype": "text/x-python",
   "name": "python",
   "nbconvert_exporter": "python",
   "pygments_lexer": "ipython2",
   "version": "2.7.15rc1"
  }
 },
 "nbformat": 4,
 "nbformat_minor": 2
}
