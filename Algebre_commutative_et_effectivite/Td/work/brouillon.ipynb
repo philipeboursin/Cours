{
 "cells": [
  {
   "cell_type": "code",
   "execution_count": 8,
   "metadata": {},
   "outputs": [
    {
     "name": "stdout",
     "output_type": "stream",
     "text": [
      "-2*x^3*y^2\n",
      "-2\n",
      "x^3*y^2\n",
      "5\n"
     ]
    }
   ],
   "source": [
    "_.<x,y> = PolynomialRing(QQ, 2, order = 'lex')\n",
    "P = -2*x^3*y^2 + y^2\n",
    "print(P.lt())\n",
    "print(P.lc())\n",
    "print(P.lm())\n",
    "print(P.degree())"
   ]
  },
  {
   "cell_type": "code",
   "execution_count": 1,
   "metadata": {},
   "outputs": [
    {
     "name": "stdout",
     "output_type": "stream",
     "text": [
      "((2/3) * (x^10 - 3/8*x^9 + 3*x^8 - 3/4*x^7 - 1/2*x^6 + 3*x^5 + 3*x^4 - 3/10*x^3 + 9/2*x + 1/10), (2) * (x^7 - 1/18*x^6 + 5/64*x^5 - 1/2*x^4 - 1/8*x^3 - 1/2*x^2 + 5/4*x + 7/2))\n",
      "160908873117162634403940983139150983578949/83844331034826280921989120000000\n"
     ]
    }
   ],
   "source": [
    "A.<x> = QQ[]\n",
    "P = A.random_element(10)\n",
    "Q = A.random_element(7)\n",
    "M = P.sylvester_matrix(Q)\n",
    "print(P.factor(), Q.factor())\n",
    "print(M.determinant())"
   ]
  },
  {
   "cell_type": "code",
   "execution_count": 1,
   "metadata": {},
   "outputs": [
    {
     "name": "stdout",
     "output_type": "stream",
     "text": [
      "[1, 2, 3, 4]\n",
      "[4, 3, 2, 1]\n"
     ]
    }
   ],
   "source": [
    "L = [1, 2, 3, 4]\n",
    "print(L)\n",
    "L.reverse()\n",
    "print(L)"
   ]
  },
  {
   "cell_type": "code",
   "execution_count": 7,
   "metadata": {},
   "outputs": [
    {
     "data": {
      "text/plain": [
       "Ideal (z) of Multivariate Polynomial Ring in x, y, z over Rational Field"
      ]
     },
     "execution_count": 7,
     "metadata": {},
     "output_type": "execute_result"
    }
   ],
   "source": [
    "A.<x, y, z> = PolynomialRing(QQ, order = 'lex')\n",
    "I = A.ideal(x, y, z)\n",
    "I.elimination_ideal([x, y])"
   ]
  },
  {
   "cell_type": "code",
   "execution_count": 19,
   "metadata": {},
   "outputs": [
    {
     "name": "stdout",
     "output_type": "stream",
     "text": [
      "1\n"
     ]
    }
   ],
   "source": [
    "B = QQ['x','y']\n",
    "P = x*y\n",
    "print(P.degree(x))"
   ]
  },
  {
   "cell_type": "code",
   "execution_count": null,
   "metadata": {},
   "outputs": [],
   "source": []
  }
 ],
 "metadata": {
  "kernelspec": {
   "display_name": "SageMath 8.1",
   "language": "",
   "name": "sagemath"
  },
  "language_info": {
   "codemirror_mode": {
    "name": "ipython",
    "version": 2
   },
   "file_extension": ".py",
   "mimetype": "text/x-python",
   "name": "python",
   "nbconvert_exporter": "python",
   "pygments_lexer": "ipython2",
   "version": "2.7.15rc1"
  }
 },
 "nbformat": 4,
 "nbformat_minor": 2
}
