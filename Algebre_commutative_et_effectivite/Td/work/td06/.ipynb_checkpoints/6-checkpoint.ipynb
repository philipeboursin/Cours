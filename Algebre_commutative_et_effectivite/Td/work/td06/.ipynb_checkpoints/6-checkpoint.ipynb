{
 "cells": [
  {
   "cell_type": "markdown",
   "metadata": {},
   "source": [
    "**Exercice 6**"
   ]
  },
  {
   "cell_type": "code",
   "execution_count": 61,
   "metadata": {},
   "outputs": [],
   "source": [
    "A.<x, y, z, t> = PolynomialRing(QQ, order = 'lex')\n",
    "L = [z^5 - y^3*t^2, x^2*t - y*z^2, x^2*z^3 - y^4*t, x^4*z - y^5]\n",
    "I = ideal(L)"
   ]
  },
  {
   "cell_type": "markdown",
   "metadata": {},
   "source": [
    "**1.**"
   ]
  },
  {
   "cell_type": "code",
   "execution_count": 62,
   "metadata": {},
   "outputs": [
    {
     "name": "stdout",
     "output_type": "stream",
     "text": [
      "L'ensemble générateur de I est une base de Groebner ? True\n"
     ]
    }
   ],
   "source": [
    "print(\"L'ensemble générateur de I est une base de Groebner ? \" + str(I.basis_is_groebner()))"
   ]
  },
  {
   "cell_type": "markdown",
   "metadata": {},
   "source": [
    "**2.**"
   ]
  },
  {
   "cell_type": "code",
   "execution_count": 66,
   "metadata": {},
   "outputs": [
    {
     "name": "stdout",
     "output_type": "stream",
     "text": [
      "[y^5, y^4*t, y^3*t^2, x^2*y^2*t^3, y*z^2, x^4*y*t^4, z^11]\n",
      "[z^11, y*z^2, y^3*t^2, y^4*t, y^5, x^2*y^2*t^3, x^4*y*t^4]\n",
      "True\n"
     ]
    }
   ],
   "source": [
    "target = [z^11, y*z^2, y^3*t^2, y^4*t, y^5, x^2*y^2*t^3, x^4*y*t^4]\n",
    "B = A.change_ring(names = 'y,z,x,t')\n",
    "J = I.change_ring(B)\n",
    "G = J.groebner_basis()\n",
    "M = [A(g.lt()) for g in G]\n",
    "print(M)\n",
    "print(target)\n",
    "print(set(M) == set(target))"
   ]
  },
  {
   "cell_type": "markdown",
   "metadata": {},
   "source": [
    "L'ordre $y > z > x > t$ convient."
   ]
  }
 ],
 "metadata": {
  "kernelspec": {
   "display_name": "SageMath 8.1",
   "language": "",
   "name": "sagemath"
  },
  "language_info": {
   "codemirror_mode": {
    "name": "ipython",
    "version": 2
   },
   "file_extension": ".py",
   "mimetype": "text/x-python",
   "name": "python",
   "nbconvert_exporter": "python",
   "pygments_lexer": "ipython2",
   "version": "2.7.15rc1"
  }
 },
 "nbformat": 4,
 "nbformat_minor": 2
}
