{
 "cells": [
  {
   "cell_type": "markdown",
   "metadata": {},
   "source": [
    "**Exercice 4.1**"
   ]
  },
  {
   "cell_type": "markdown",
   "metadata": {},
   "source": [
    "Soit $m \\in S$ le plus petit élément de $S$. Au vu de la définition de $S$, on peut écrire $m$ comme\n",
    "\\begin{align*}\n",
    "    m = \\sum_{i = 1}^r \\alpha_i\n",
    "\\end{align*}\n",
    "avec $\\alpha_i \\in A$, pour tout $1 \\leq i \\leq r$. Maintenant supposons que $m \\notin A$, alors $\\exists i \\neq j$ tels que $\\alpha_i, \\alpha_j \\neq 0$. Mais alors $\\alpha_i < m$ puisque $\\alpha_j, \\alpha_j > 0$ et $\\alpha_k \\geq 0$ pour tout $k \\neq i,j$, donc $\\alpha_j > 0 \\Rightarrow \\alpha_j + \\alpha_i > \\alpha_i \\Rightarrow m > \\alpha_i$. Mais $\\alpha_i \\in S$, ce qui contredit la minimalité de $m$. Ainsi $\\exists 1 \\leq i \\leq r$ tel que $m = \\alpha_i \\in A$."
   ]
  },
  {
   "cell_type": "markdown",
   "metadata": {},
   "source": [
    "Sinon Soit $m \\in S$ le plus petit élément de $S$. Notons $m = x^\\beta$, alors comme $m \\in I$, $\\exists 1 \\leq i \\leq r$ tel que $x^{\\alpha_i} \\mid x^\\beta$. Ainsi il existe $\\gamma \\in \\mathbb{N}^n$ tel que $\\beta = \\alpha_i + \\gamma$. Mais alors $\\beta = \\alpha_i + \\gamma \\geq \\alpha_i + 0 = \\alpha$. Mais $\\alpha_i \\in S$, et par minimalité de $\\beta$, $\\alpha_i \\geq \\beta$, et $\\alpha_i = \\beta$ par antisymétrie, ce qui prouve que $x^\\beta \\in S$."
   ]
  }
 ],
 "metadata": {
  "kernelspec": {
   "display_name": "SageMath 8.1",
   "language": "",
   "name": "sagemath"
  },
  "language_info": {
   "codemirror_mode": {
    "name": "ipython",
    "version": 2
   },
   "file_extension": ".py",
   "mimetype": "text/x-python",
   "name": "python",
   "nbconvert_exporter": "python",
   "pygments_lexer": "ipython2",
   "version": "2.7.15rc1"
  }
 },
 "nbformat": 4,
 "nbformat_minor": 2
}
