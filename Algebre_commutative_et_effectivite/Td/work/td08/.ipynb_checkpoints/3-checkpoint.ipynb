{
 "cells": [
  {
   "cell_type": "markdown",
   "metadata": {},
   "source": [
    "**Exercice 3**"
   ]
  },
  {
   "cell_type": "markdown",
   "metadata": {},
   "source": [
    "**1.** On a vu dans le cours que si $J = (m_1, \\cdots, m_r)$ est un idéal monomial, alors $\\{m_1, \\cdots, m_r\\}$ est une bdg de $J$. Ainsi d'après le théorème d'élimination, $\\{m_1, \\cdots, m_r\\} \\cap k[x_{n'}, \\cdots x_n]$ est une famille génératrice de $J$. Celle-ci correspond aux monômes $m_i$ ne faisant intervenir que les variables $x_{n'}, \\cdots, x_n$. Attention, le théorème ne fonctionne que pour l'ordre lexicographique ! (cela suffit pour l'exercice tho)"
   ]
  },
  {
   "cell_type": "markdown",
   "metadata": {},
   "source": [
    "**2.** $\\subseteq$ : si $m \\in LT(I')$, alors $\\exists f \\in I'$ tel que $LT(f) = m$. Maintenant $f \\in I' = I \\cap \\langle x_{n'}, \\cdots, x_n \\rangle$. Alors déjà $f \\in I$, donc $m \\in LT(I)$. Ensuite, $f \\in \\langle x_{n'}, \\cdots, x_n \\rangle$, donc tous ses monômes sont divisibles par l'un des $x_i$, $n' \\leq i \\leq n$, et en particulier $m \\in \\langle x_{n'}, \\cdots, x_n \\rangle$.\n",
    "\n",
    "$\\supseteq$ : Soit $m \\in LT(I) \\cap \\langle x_{n'}, \\cdots, x_n \\rangle$. Alors $\\exists f \\in I$ tel que $LT(f) = m$. Maintenant l'ordre sur $k[x_1, \\cdots, x_n]$ est l'ordre lex, et $m$ est divisible par l'un des $x_i$ pour $n' \\leq i \\leq n$, ce qui veut dire que $x_j$ pour $j < i$ ne peut pas diviser un des termes de $f$, du fait que sinon ce terme serait plus grand que $m$. Cela prouve que $f \\in \\langle x_{n'}, \\cdots, x_n \\rangle$, et ainsi $f \\in I'$, et donc $m \\in LT(I')$."
   ]
  },
  {
   "cell_type": "markdown",
   "metadata": {},
   "source": [
    "**3.** D'après la question précédente, on a\n",
    "\\begin{align*}\n",
    "    \\langle LT(I') \\rangle = \\langle LT(I) \\cap \\langle X_{n'}, \\cdots, X_n \\rangle \\rangle\n",
    "\\end{align*}\n",
    "Alors d'après la question $1$, $LT(I) \\cap \\langle X_{n'}, \\cdots, X_n \\rangle$ est engendré par les éléments de $LT(I)$ ne faisant intervenir que les variables $x_{n'}, \\cdots, x_n$. Mais alors si $f \\in I$ est tel que $LT(f)$ ne fait intervenir que $x_{n'}, \\cdots, x_n$, alors comme on travaille avec l'ordre lex, $f$ doit forcément ne faire intervenir que les variables $x_{n'}, \\cdots, x_n$, et donc $f \\in I'$. "
   ]
  }
 ],
 "metadata": {
  "kernelspec": {
   "display_name": "SageMath 8.1",
   "language": "",
   "name": "sagemath"
  },
  "language_info": {
   "codemirror_mode": {
    "name": "ipython",
    "version": 2
   },
   "file_extension": ".py",
   "mimetype": "text/x-python",
   "name": "python",
   "nbconvert_exporter": "python",
   "pygments_lexer": "ipython2",
   "version": "2.7.15rc1"
  }
 },
 "nbformat": 4,
 "nbformat_minor": 2
}
