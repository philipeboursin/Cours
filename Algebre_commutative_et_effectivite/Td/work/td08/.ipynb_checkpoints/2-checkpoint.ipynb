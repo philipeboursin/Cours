{
 "cells": [
  {
   "cell_type": "markdown",
   "metadata": {},
   "source": [
    "**Exercice 2**"
   ]
  },
  {
   "cell_type": "code",
   "execution_count": null,
   "metadata": {},
   "outputs": [],
   "source": [
    "#Division multivariée\n",
    "def div_mult(f, L):\n",
    "    g = f\n",
    "    Q = [0 for i in range(len(L))]\n",
    "    R = 0\n",
    "    while g != 0:\n",
    "        b = True\n",
    "        i = 0\n",
    "        glm = g.lt()\n",
    "        while b and i < len(L):\n",
    "            Lilm = L[i].lt()\n",
    "            if glm % Lilm == 0:\n",
    "                g -= L[i]*(glm // Lilm)\n",
    "                Q[i] += glm // Lilm\n",
    "                b = False\n",
    "            i += 1\n",
    "        if b:\n",
    "            g -= glm\n",
    "            R += glm\n",
    "    return Q, R\n",
    "\n",
    "#siziji (?)\n",
    "def sfg(f, g):\n",
    "    A = f.parent()\n",
    "    inter = lcm(f.lm(), g.lm())\n",
    "    return A(f*inter/f.lt() - g*inter/g.lt())\n",
    "\n",
    "#Critère de Buchberger\n",
    "def is_grob(L):\n",
    "    b = True\n",
    "    for i in range(len(L)):\n",
    "        for j in range(i):\n",
    "            _,R = div_mult(sfg(L[i], L[j]), L)\n",
    "            b = b & (R == 0)\n",
    "    return b\n",
    "\n",
    "#Algorithme de Buchberger\n",
    "def grobner_basis(L):\n",
    "    b = True\n",
    "    while b:\n",
    "        b = False\n",
    "        G = copy(L)\n",
    "        for f in G:\n",
    "            for g in G:\n",
    "                _, r = div_mult(sfg(f, g), G)\n",
    "                if r != 0:\n",
    "                    L.append(r)\n",
    "                    b = True\n",
    "        L = list(set(L))\n",
    "    return L"
   ]
  },
  {
   "cell_type": "code",
   "execution_count": 16,
   "metadata": {},
   "outputs": [
    {
     "name": "stdout",
     "output_type": "stream",
     "text": [
      "[z^10 - y^9*t, x*z^7 - y^7*t, x^2*z^4 - y^5*t, x^4 - y*z^2*t, x^3*z - y^3*t, x*y^2 - z^3]\n"
     ]
    }
   ],
   "source": [
    "A.<x,y,z,t> = PolynomialRing(QQ, order = 'degrevlex')\n",
    "m = 3\n",
    "Im = A.ideal(x^(m + 1) - y*z^(m - 1)*t, x*y^(m - 1) - z^m, x^m*z - y^m*t)\n",
    "G = Im.groebner_basis()\n",
    "print(G)"
   ]
  },
  {
   "cell_type": "markdown",
   "metadata": {},
   "source": [
    "Hypothèse : la bdg réduite de $I_m$ est $\\{xy^{m - 1} - z^m, x^mz - y^mt, x^{m + 1} - yz^{m - 1}t\\} \\cup \\{x^{m - i}z^{im + 1} - y^{2m - 1 + i(m-1)}\\}_{1 \\leq i \\leq m}$ Il faut vérifier formellement que c'est bien la bdg réduite ..."
   ]
  }
 ],
 "metadata": {
  "kernelspec": {
   "display_name": "SageMath 8.1",
   "language": "",
   "name": "sagemath"
  },
  "language_info": {
   "codemirror_mode": {
    "name": "ipython",
    "version": 2
   },
   "file_extension": ".py",
   "mimetype": "text/x-python",
   "name": "python",
   "nbconvert_exporter": "python",
   "pygments_lexer": "ipython2",
   "version": "2.7.15rc1"
  }
 },
 "nbformat": 4,
 "nbformat_minor": 2
}
