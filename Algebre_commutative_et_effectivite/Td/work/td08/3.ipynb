{
 "cells": [
  {
   "cell_type": "markdown",
   "metadata": {},
   "source": [
    "**Exercice 3**"
   ]
  },
  {
   "cell_type": "markdown",
   "metadata": {},
   "source": [
    "**1.** Montrons que l'ensemble $M = \\{m_i \\mid \\exists n' \\leq j \\leq n,\\, x_j \\mid m_i\\}$ engendre $J \\cap \\langle x_{n'}, \\cdots, x_n \\rangle$ (on va en fait montrer que $J \\cap \\langle x_{n'}, \\cdots, x_n \\rangle = \\langle \\{m_1, \\cdots, m_r\\} \\cap \\langle x_{n'}, \\cdots, x_n \\rangle \\rangle$) : déjà, il est clair que si $m_i \\in M$, alors $m_i \\in J$ et $m_i \\in \\langle x_{n'}, \\cdots, x_n \\rangle$. Réciproquement, si $f \\in J \\cap \\langle x_{n'}, \\cdots, x_n \\rangle$, alors on peut écrire "
   ]
  },
  {
   "cell_type": "markdown",
   "metadata": {},
   "source": [
    "**2.** $\\subseteq$ : si $m \\in LT(I')$, alors $\\exists f \\in I'$ tel que $LT(f) = m$. Maintenant $f \\in I' = I \\cap \\langle x_{n'}, \\cdots, x_n \\rangle$. Alors déjà $f \\in I$, donc $m \\in LT(I)$. Ensuite, $f \\in \\langle x_{n'}, \\cdots, x_n \\rangle$, donc tous ses monômes sont divisibles par l'un des $x_i$, $n' \\leq i \\leq n$, et en particulier $m \\in \\langle x_{n'}, \\cdots, x_n \\rangle$.\n",
    "\n",
    "$\\supseteq$ : Soit $m \\in LT(I) \\cap \\langle x_{n'}, \\cdots, x_n \\rangle$. Alors $\\exists f \\in I$ tel que $LT(f) = m$. Maintenant l'ordre sur $k[x_1, \\cdots, x_n]$ est l'ordre lex, et $m$ est divisible par l'un des $x_i$ pour $n' \\leq i \\leq n$, ce qui veut dire que $x_j$ pour $j < i$ ne peut pas diviser un des termes de $f$, du fait que sinon ce terme serait plus grand que $m$. Cela prouve que $f \\in \\langle x_{n'}, \\cdots, x_n \\rangle$, et ainsi $f \\in I'$, et donc $m \\in LT(I')$."
   ]
  },
  {
   "cell_type": "markdown",
   "metadata": {},
   "source": [
    "**3.** D'après la question précédente,\n",
    "\\begin{align*}\n",
    "    \\langle LT(I') \\rangle = \\langle LT(I) \\cap \\langle x_{n'}, \\cdots, x_n \\rangle \\rangle\n",
    "\\end{align*}\n",
    "Maintenant d'après la question 1, $\\langle LT(I) \\rangle \\cap "
   ]
  }
 ],
 "metadata": {
  "kernelspec": {
   "display_name": "SageMath 8.1",
   "language": "",
   "name": "sagemath"
  },
  "language_info": {
   "codemirror_mode": {
    "name": "ipython",
    "version": 2
   },
   "file_extension": ".py",
   "mimetype": "text/x-python",
   "name": "python",
   "nbconvert_exporter": "python",
   "pygments_lexer": "ipython2",
   "version": "2.7.15rc1"
  }
 },
 "nbformat": 4,
 "nbformat_minor": 2
}
