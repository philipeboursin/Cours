{
 "cells": [
  {
   "cell_type": "markdown",
   "metadata": {},
   "source": [
    "**Exercice 3**"
   ]
  },
  {
   "cell_type": "markdown",
   "metadata": {},
   "source": [
    "**1.**"
   ]
  },
  {
   "cell_type": "code",
   "execution_count": 4,
   "metadata": {},
   "outputs": [
    {
     "name": "stdout",
     "output_type": "stream",
     "text": [
      "[x + 2*z^3 - 3*z, y^2 - z^2 - 1, z^4 - 3/2*z^2 + 1/2]\n",
      "I1 : \n",
      "Ideal (2*z^4 - 3*z^2 + 1, y^2 - z^2 - 1) of Multivariate Polynomial Ring in x, y, z over Rational Field\n",
      "I2 : \n",
      "Ideal (2*z^4 - 3*z^2 + 1) of Multivariate Polynomial Ring in x, y, z over Rational Field\n"
     ]
    }
   ],
   "source": [
    "A.<x,y,z> = PolynomialRing(QQ, order = 'lex')\n",
    "I = A.ideal(x^2 + y^2 + z^2 - 4, x^2 + 2*y^2 - 5, x*z - 1)\n",
    "G = I.groebner_basis()\n",
    "print(G)\n",
    "I1 = I.elimination_ideal(x)\n",
    "print(\"I1 : \")\n",
    "print(I1)\n",
    "I2 = I1.elimination_ideal(x).elimination_ideal(y)\n",
    "print(\"I2 : \")\n",
    "print(I2)"
   ]
  },
  {
   "cell_type": "markdown",
   "metadata": {},
   "source": [
    "**2.** On résout d'abord l'équation qui fait intervenir seulement $z$."
   ]
  },
  {
   "cell_type": "code",
   "execution_count": 21,
   "metadata": {},
   "outputs": [
    {
     "name": "stdout",
     "output_type": "stream",
     "text": [
      "[1, -1]\n"
     ]
    }
   ],
   "source": [
    "S = I2.gens()[0].univariate_polynomial().roots(QQ, multiplicities = false)\n",
    "print(S)"
   ]
  },
  {
   "cell_type": "markdown",
   "metadata": {},
   "source": [
    "On résout ensuite celle qui fait intervenir $y$ et $z$ en substituant les $z$ obtenus au calcul précédent"
   ]
  },
  {
   "cell_type": "code",
   "execution_count": 22,
   "metadata": {},
   "outputs": [
    {
     "name": "stdout",
     "output_type": "stream",
     "text": [
      "[]\n"
     ]
    }
   ],
   "source": [
    "B.<y> = QQ[]\n",
    "S2 = []\n",
    "for s in S:\n",
    "    inter = B(I1.gens()[1](z = s)).roots(QQ, multiplicities = false)\n",
    "    for i in inter:\n",
    "        S2.append((i, s))\n",
    "print(S2)"
   ]
  },
  {
   "cell_type": "markdown",
   "metadata": {},
   "source": [
    "Le système n'admet pas de solutions dans $\\mathbb{Q}^3$."
   ]
  },
  {
   "cell_type": "markdown",
   "metadata": {},
   "source": [
    "**3.** De même,"
   ]
  },
  {
   "cell_type": "code",
   "execution_count": 23,
   "metadata": {},
   "outputs": [
    {
     "name": "stdout",
     "output_type": "stream",
     "text": [
      "[-1.00000000000000, -0.707106781186548, 0.707106781186548, 1.00000000000000]\n",
      "[(-1.41421356237310, -1.00000000000000), (1.41421356237310, -1.00000000000000), (-1.22474487139159, -0.707106781186548), (1.22474487139159, -0.707106781186548), (-1.22474487139159, 0.707106781186548), (1.22474487139159, 0.707106781186548), (-1.41421356237310, 1.00000000000000), (1.41421356237310, 1.00000000000000)]\n"
     ]
    }
   ],
   "source": [
    "S = I2.gens()[0].univariate_polynomial().roots(CC, multiplicities = false)\n",
    "print(S)\n",
    "B.<y> = CC[]\n",
    "S2 = []\n",
    "for s in S:\n",
    "    inter = B(I1.gens()[1](z = s)).roots(CC, multiplicities = false)\n",
    "    for i in inter:\n",
    "        S2.append((i, s))\n",
    "print(S2)"
   ]
  },
  {
   "cell_type": "markdown",
   "metadata": {},
   "source": [
    "Maintenant $x$ est entirèrement déterminé par les valeurs de $y$ et $z$ au vu de la première équation de la base de Groebner, donc on conclut que ce système admet $8$ solutions dans $\\mathbb{C}$."
   ]
  }
 ],
 "metadata": {
  "kernelspec": {
   "display_name": "SageMath 8.1",
   "language": "",
   "name": "sagemath"
  },
  "language_info": {
   "codemirror_mode": {
    "name": "ipython",
    "version": 2
   },
   "file_extension": ".py",
   "mimetype": "text/x-python",
   "name": "python",
   "nbconvert_exporter": "python",
   "pygments_lexer": "ipython2",
   "version": "2.7.15rc1"
  }
 },
 "nbformat": 4,
 "nbformat_minor": 2
}
