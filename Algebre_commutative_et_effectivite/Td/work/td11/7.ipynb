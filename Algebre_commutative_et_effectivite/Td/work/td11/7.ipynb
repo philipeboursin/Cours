{
 "cells": [
  {
   "cell_type": "markdown",
   "metadata": {},
   "source": [
    "**Exercice 7**\n",
    "\n",
    "On calcule une bdg de $\\langle tI + (1 - t)J \\rangle \\subseteq k[t, x, y]$, et on élimine $t$."
   ]
  },
  {
   "cell_type": "code",
   "execution_count": 5,
   "metadata": {},
   "outputs": [
    {
     "name": "stdout",
     "output_type": "stream",
     "text": [
      "[t + 1/4*x*y - 1/2, x^2 - 2, y^2 - 2]\n",
      "[x^2 - 2, y^2 - 2]\n",
      "Ideal (y^2 - 2, x^2 - 2) of Multivariate Polynomial Ring in t, x, y over Rational Field\n"
     ]
    }
   ],
   "source": [
    "A.<x, y> = PolynomialRing(QQ)\n",
    "B.<t, x, y> = PolynomialRing(QQ, order = 'lex')\n",
    "\n",
    "I = A.ideal(x^2 - 2, x + y)\n",
    "J = A.ideal(x^2 - 2, x - y)\n",
    "\n",
    "L = [t*B(i) + (1 - t)*B(j) for i in I.gens() for j in J.gens()]\n",
    "inter = B.ideal(L)\n",
    "\n",
    "G = inter.groebner_basis()\n",
    "print(G)\n",
    "res = []\n",
    "for g in G:\n",
    "    if g.degree(t) == 0:\n",
    "        res.append(g)\n",
    "\n",
    "print(res)\n",
    "# ou\n",
    "print(inter.elimination_ideal(t))"
   ]
  }
 ],
 "metadata": {
  "kernelspec": {
   "display_name": "SageMath 8.1",
   "language": "",
   "name": "sagemath"
  },
  "language_info": {
   "codemirror_mode": {
    "name": "ipython",
    "version": 2
   },
   "file_extension": ".py",
   "mimetype": "text/x-python",
   "name": "python",
   "nbconvert_exporter": "python",
   "pygments_lexer": "ipython2",
   "version": "2.7.15rc1"
  }
 },
 "nbformat": 4,
 "nbformat_minor": 2
}
