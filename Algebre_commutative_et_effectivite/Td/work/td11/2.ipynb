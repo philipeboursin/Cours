{
 "cells": [
  {
   "cell_type": "markdown",
   "metadata": {},
   "source": [
    "**Exercice 2**"
   ]
  },
  {
   "cell_type": "markdown",
   "metadata": {},
   "source": [
    "**1.**"
   ]
  },
  {
   "cell_type": "code",
   "execution_count": 1,
   "metadata": {},
   "outputs": [
    {
     "name": "stdout",
     "output_type": "stream",
     "text": [
      "[x^2 + 2*y^2 - 3, x*y - y^2, y^3 - y]\n",
      "Ideal (y^3 - y) of Multivariate Polynomial Ring in x, y over Rational Field\n",
      "Ideal (x^4 - 4*x^2 + 3) of Multivariate Polynomial Ring in x, y over Rational Field\n"
     ]
    }
   ],
   "source": [
    "A.<x,y> = PolynomialRing(QQ, order = 'lex')\n",
    "I = A.ideal(x^2 + 2*y^2 - 3, x^2 + x*y + y^2 - 3)\n",
    "G = I.groebner_basis()\n",
    "print(G)\n",
    "print(I.elimination_ideal(x))\n",
    "print(I.elimination_ideal(y))"
   ]
  },
  {
   "cell_type": "markdown",
   "metadata": {},
   "source": [
    "**2.** On sait que si $(x,y)$ est une solution du système, alors il est solution du système induit par les éléments de n'importe quelle base de Grobner. En particulier, $(x,y)$ doit vérifier $y^3 - y$ et $x^4 - 4*x^2 + 3$. Ainsi pour résoudre le système on trouve les solutions de ces deux équations polynômiales, et on réinjecte chaque couple dans le système pour vérifier que ce sont bien des solutions : supposons que $(x,y)$ est solution du système, alors on doit avoir $y^3 - y = 0 \\iff y(y^2 - 1) = 0$ et donc $y \\in \\{0, 1, -1\\}$. De même, on doit avoir $x^4 - 4x^2 + 3 = 0$, donc $x^2 \\in \\{1, 3\\}$ puisque $(x^2)^2 - 4(x^2) + 3 = 0$ et que $T^2 - 4T + 3 = (T - 1)(T - 3)$. Ainsi on sépare en deux cas : \n",
    "\n",
    "soit $k$ n'a pas de racine de $3$, et alors $x \\in \\{1,-1\\}$, puis si $y = 0$, aucun de ces $x$ ne convient pour que $(x,y)$ soit solution, si $y = 1$, on doit avoir $x = 1$ et si $y = -1$, on doit avoir $x = -1$ (remarquons qu'il n'y a pas de problèmes avec la caractéristique $2$ puisque $-1 = 1$ dans ce cas). Ainsi les solutions sont $\\{(1,1), (-1,-1)\\}$ (c'est par exemple le cas dans $\\mathbb{Q}$)\n",
    "\n",
    "soit $k$ a une racine de $3$, et alors $x \\in \\{-1,1, \\sqrt{3}, -\\sqrt{3}\\}$. Maintenant si $y = 0$, $x = \\sqrt{3}$ et $x = -\\sqrt{3}$ conviennent, puis si $y = 1$, on doit avoir $x \\in \\{1, -1\\}$ avec la première équation, et donc au final on retombe sur le cas précédent. Les solutions sont donc $\\{(\\sqrt{3}, 0), (-\\sqrt{3}, 0), (1,1), (-1,-1)\\}$."
   ]
  }
 ],
 "metadata": {
  "kernelspec": {
   "display_name": "SageMath 8.1",
   "language": "",
   "name": "sagemath"
  },
  "language_info": {
   "codemirror_mode": {
    "name": "ipython",
    "version": 2
   },
   "file_extension": ".py",
   "mimetype": "text/x-python",
   "name": "python",
   "nbconvert_exporter": "python",
   "pygments_lexer": "ipython2",
   "version": "2.7.15rc1"
  }
 },
 "nbformat": 4,
 "nbformat_minor": 2
}
