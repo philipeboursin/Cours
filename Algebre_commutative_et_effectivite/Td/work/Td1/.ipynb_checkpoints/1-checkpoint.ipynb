{
 "cells": [
  {
   "cell_type": "markdown",
   "metadata": {},
   "source": [
    "**Exercice 1.1**"
   ]
  },
  {
   "cell_type": "code",
   "execution_count": 1,
   "metadata": {},
   "outputs": [],
   "source": [
    "_.<x> = QQ[] # _.<x> = PolynomialRing(QQ) marche aussi\n",
    "P1 = x^6 + 2*x^5 - 2*x^4 + 2*x^2 - 2*x - 1\n",
    "P2 = x^5 + x^4 - 2*x^3 + x^2 + x - 2"
   ]
  },
  {
   "cell_type": "markdown",
   "metadata": {},
   "source": [
    "**1)**"
   ]
  },
  {
   "cell_type": "code",
   "execution_count": 6,
   "metadata": {},
   "outputs": [
    {
     "name": "stdout",
     "output_type": "stream",
     "text": [
      "Degré de P : 11\n",
      "Coefficient directeur de P : 1\n",
      "Coefficients de P : [2, 3, -7, 2, 9, -13, -2, 9, -5, -2, 3, 1]\n"
     ]
    }
   ],
   "source": [
    "P = P1*P2\n",
    "print(\"Degré de P : \" + str(P.degree()))\n",
    "print(\"Coefficient directeur de P : \" + str(P.leading_coefficient()))\n",
    "print(\"Coefficients de P : \" +  str(P.coefficients()))"
   ]
  },
  {
   "cell_type": "markdown",
   "metadata": {},
   "source": [
    "**2)**"
   ]
  },
  {
   "cell_type": "code",
   "execution_count": 10,
   "metadata": {},
   "outputs": [
    {
     "name": "stdout",
     "output_type": "stream",
     "text": [
      "Dividande : x + 1\n",
      "Reste : -x^4 + x^3 - x + 1\n"
     ]
    }
   ],
   "source": [
    "Q, R = P1.quo_rem(P2)\n",
    "print(\"Dividande : \" + str(Q))\n",
    "print(\"Reste : \" + str(R))"
   ]
  },
  {
   "cell_type": "markdown",
   "metadata": {},
   "source": [
    "**3)**"
   ]
  },
  {
   "cell_type": "code",
   "execution_count": 11,
   "metadata": {},
   "outputs": [
    {
     "name": "stdout",
     "output_type": "stream",
     "text": [
      "pgcd(P1, P2) : x^4 - x^3 + x - 1\n"
     ]
    }
   ],
   "source": [
    "print(\"pgcd(P1, P2) : \" + str(gcd(P1, P2)))"
   ]
  },
  {
   "cell_type": "markdown",
   "metadata": {},
   "source": [
    "**4)**"
   ]
  },
  {
   "cell_type": "code",
   "execution_count": 17,
   "metadata": {},
   "outputs": [
    {
     "name": "stdout",
     "output_type": "stream",
     "text": [
      "Factorisation de P\n",
      "(x + 2) * (x - 1)^2 * (x + 1)^2 * (x^2 + 3*x + 1) * (x^2 - x + 1)^2\n",
      "P(2) = 3564\n"
     ]
    }
   ],
   "source": [
    "print(\"Factorisation de P\")\n",
    "print(factor(P))\n",
    "print(\"P(2) = \" + str(P(2)))"
   ]
  }
 ],
 "metadata": {
  "kernelspec": {
   "display_name": "SageMath 8.1",
   "language": "",
   "name": "sagemath"
  },
  "language_info": {
   "codemirror_mode": {
    "name": "ipython",
    "version": 2
   },
   "file_extension": ".py",
   "mimetype": "text/x-python",
   "name": "python",
   "nbconvert_exporter": "python",
   "pygments_lexer": "ipython2",
   "version": "2.7.15rc1"
  }
 },
 "nbformat": 4,
 "nbformat_minor": 2
}
