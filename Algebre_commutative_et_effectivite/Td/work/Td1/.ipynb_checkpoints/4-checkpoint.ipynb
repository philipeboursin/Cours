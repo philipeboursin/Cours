{
 "cells": [
  {
   "cell_type": "markdown",
   "metadata": {},
   "source": [
    "**Exercice 1.4**"
   ]
  },
  {
   "cell_type": "code",
   "execution_count": 4,
   "metadata": {},
   "outputs": [
    {
     "name": "stdout",
     "output_type": "stream",
     "text": [
      "2\n",
      "(0, x * (x + 1))\n",
      "(1, x^2 + x + 1)\n",
      "3\n",
      "(0, x * (x + 1) * (x + 2))\n",
      "(1, x^3 + 2*x + 1)\n",
      "(2, x^3 + 2*x + 2)\n",
      "5\n",
      "(0, x * (x + 1) * (x + 2) * (x + 3) * (x + 4))\n",
      "(1, x^5 + 4*x + 1)\n",
      "(2, x^5 + 4*x + 2)\n",
      "(3, x^5 + 4*x + 3)\n",
      "(4, x^5 + 4*x + 4)\n",
      "7\n",
      "(0, x * (x + 1) * (x + 2) * (x + 3) * (x + 4) * (x + 5) * (x + 6))\n",
      "(1, x^7 + 6*x + 1)\n",
      "(2, x^7 + 6*x + 2)\n",
      "(3, x^7 + 6*x + 3)\n",
      "(4, x^7 + 6*x + 4)\n",
      "(5, x^7 + 6*x + 5)\n",
      "(6, x^7 + 6*x + 6)\n"
     ]
    }
   ],
   "source": [
    "def main(p):\n",
    "    Fp.<x> = GF(p)[]\n",
    "    for c in range(p):\n",
    "        P = x^p - x + c\n",
    "        print(c, P.factor())\n",
    "       \n",
    "P = [2,3,5,7]\n",
    "for p in P:\n",
    "    print(p)\n",
    "    main(p)"
   ]
  },
  {
   "cell_type": "markdown",
   "metadata": {},
   "source": [
    "Conjecture : si $c = 0$, alors $x^p - x = \\prod_{i = 0}^{p-1} (x + i)$, et sinon $x^p - x + c$ est irréductible."
   ]
  },
  {
   "cell_type": "markdown",
   "metadata": {},
   "source": [
    "Preuve : d'après le petit théorème de fermat, le Frobenius est l'identité dans $\\mathbb{F}_p$, i.e. pour tout $y \\in \\mathbb{F}_p$, $x^p = x$. Mais alors si $c = 0$, tous les éléments de $\\mathbb{F}_p$ sont racine de $x^p - x$ qui ne peut pas avoir plus de $p$ racines, donc ses racines sont exactement les éléments de $\\mathbb{F}_p$, toute des multiplicité $1$, et ainsi \n",
    "\\begin{align*}\n",
    "    x^p - x = \\prod_{i = 0}^{p-1} (x - i) = \\prod_{i = 0}^{p-1} (x + i)\n",
    "\\end{align*}\n",
    "Si $c \\neq 0$, $f = x^p - x + c$ n'admet aucune racine, supposons alors que $f = gh$ avec $g,h$ de degré strictement positif. Considérons alors un corps de décomposition de $f$, puis $\\alpha$ une racine de $f$. Alors il est facile de voir que $\\alpha + s$ est encore une racine de $f$, pour $s \\in \\mathbb{F}_p$. Ainsi comme précédemment, au vu du degré de $f$, il s'écrit comme\n",
    "\\begin{align*}\n",
    "    f = \\prod_{s \\in \\mathbb{F}_p} (x - \\alpha - s)\n",
    "\\end{align*}\n",
    "et donc il va exister un sous ensemble non vide $S$ strictement inclus dans $\\mathbb{F}_p$ tel que\n",
    "\\begin{align*}\n",
    "    g = \\prod_{s \\in S} (x - \\alpha - s)\n",
    "\\end{align*}\n",
    "Mais alors en regardant le coefficient de degré $1$ de $g$, on obtiens que $\\sum_{s \\in S} \\alpha - s \\in \\mathbb{F}_p$, ce qui veut dire que $|S|\\alpha \\in \\mathbb{F}_p$. Mais comme $0 < |S| < p$, $|S|$ est inversible dans $\\mathbb{F}_p$, ce qui veut dire que $\\alpha \\in \\mathbb{F}_p$, contradiction puisqu'alors $\\alpha^p - \\alpha = 0 \\neq c$."
   ]
  }
 ],
 "metadata": {
  "kernelspec": {
   "display_name": "SageMath 8.1",
   "language": "",
   "name": "sagemath"
  },
  "language_info": {
   "codemirror_mode": {
    "name": "ipython",
    "version": 2
   },
   "file_extension": ".py",
   "mimetype": "text/x-python",
   "name": "python",
   "nbconvert_exporter": "python",
   "pygments_lexer": "ipython2",
   "version": "2.7.15rc1"
  }
 },
 "nbformat": 4,
 "nbformat_minor": 2
}
