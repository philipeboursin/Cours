{
 "cells": [
  {
   "cell_type": "markdown",
   "metadata": {},
   "source": [
    "**Exercice 1.5**"
   ]
  },
  {
   "cell_type": "markdown",
   "metadata": {},
   "source": [
    "Rappel sur les polynômes cyclotomiques $\\phi_n \\in \\mathbb{Z}[x]$ : par récurrence,\n",
    "\\begin{align*}\n",
    "    &\\phi_1(x) = x-1 \\\\\n",
    "    &\\phi_n(x) = \\frac{x^n - 1}{\\prod_{d \\mid n,\\, d \\neq n} \\phi_d(x)},\\, n > 1\n",
    "\\end{align*}"
   ]
  },
  {
   "cell_type": "code",
   "execution_count": 2,
   "metadata": {},
   "outputs": [
    {
     "name": "stdout",
     "output_type": "stream",
     "text": [
      "(1, x - 1)\n",
      "(2, x + 1)\n",
      "(3, x^2 + x + 1)\n",
      "(4, x^2 + 1)\n",
      "(5, x^4 + x^3 + x^2 + x + 1)\n",
      "(6, x^2 - x + 1)\n",
      "(7, x^6 + x^5 + x^4 + x^3 + x^2 + x + 1)\n",
      "(8, x^4 + 1)\n",
      "(9, x^6 + x^3 + 1)\n",
      "(10, x^4 - x^3 + x^2 - x + 1)\n",
      "(11, x^10 + x^9 + x^8 + x^7 + x^6 + x^5 + x^4 + x^3 + x^2 + x + 1)\n",
      "(12, x^4 - x^2 + 1)\n",
      "(13, x^12 + x^11 + x^10 + x^9 + x^8 + x^7 + x^6 + x^5 + x^4 + x^3 + x^2 + x + 1)\n",
      "(14, x^6 - x^5 + x^4 - x^3 + x^2 - x + 1)\n",
      "(15, x^8 - x^7 + x^5 - x^4 + x^3 - x + 1)\n",
      "(16, x^8 + 1)\n",
      "(17, x^16 + x^15 + x^14 + x^13 + x^12 + x^11 + x^10 + x^9 + x^8 + x^7 + x^6 + x^5 + x^4 + x^3 + x^2 + x + 1)\n",
      "(18, x^6 - x^3 + 1)\n",
      "(19, x^18 + x^17 + x^16 + x^15 + x^14 + x^13 + x^12 + x^11 + x^10 + x^9 + x^8 + x^7 + x^6 + x^5 + x^4 + x^3 + x^2 + x + 1)\n",
      "(20, x^8 - x^6 + x^4 - x^2 + 1)\n",
      "(21, x^12 - x^11 + x^9 - x^8 + x^6 - x^4 + x^3 - x + 1)\n",
      "(22, x^10 - x^9 + x^8 - x^7 + x^6 - x^5 + x^4 - x^3 + x^2 - x + 1)\n",
      "(23, x^22 + x^21 + x^20 + x^19 + x^18 + x^17 + x^16 + x^15 + x^14 + x^13 + x^12 + x^11 + x^10 + x^9 + x^8 + x^7 + x^6 + x^5 + x^4 + x^3 + x^2 + x + 1)\n",
      "(24, x^8 - x^4 + 1)\n",
      "(25, x^20 + x^15 + x^10 + x^5 + 1)\n",
      "(26, x^12 - x^11 + x^10 - x^9 + x^8 - x^7 + x^6 - x^5 + x^4 - x^3 + x^2 - x + 1)\n",
      "(27, x^18 + x^9 + 1)\n",
      "(28, x^12 - x^10 + x^8 - x^6 + x^4 - x^2 + 1)\n",
      "(29, x^28 + x^27 + x^26 + x^25 + x^24 + x^23 + x^22 + x^21 + x^20 + x^19 + x^18 + x^17 + x^16 + x^15 + x^14 + x^13 + x^12 + x^11 + x^10 + x^9 + x^8 + x^7 + x^6 + x^5 + x^4 + x^3 + x^2 + x + 1)\n"
     ]
    }
   ],
   "source": [
    "for i in range(1,30):\n",
    "    print(i, cyclotomic_polynomial(i))"
   ]
  },
  {
   "cell_type": "code",
   "execution_count": 3,
   "metadata": {},
   "outputs": [
    {
     "name": "stdout",
     "output_type": "stream",
     "text": [
      "(x^2 - x + 1) * (x^2 + x + 1)\n",
      "x^6 + x^3 + 1\n",
      "(x^2 + x + 1) * (x^8 - x^7 + x^5 - x^4 + x^3 - x + 1)\n",
      "(x^2 + x + 1) * (x^12 - x^11 + x^9 - x^8 + x^6 - x^4 + x^3 - x + 1)\n"
     ]
    }
   ],
   "source": [
    "p = [2, 3, 5, 7]\n",
    "_.<x> = ZZ[]\n",
    "for pp in p:\n",
    "    P = x^(2*pp) + x^pp + 1\n",
    "    print(P.factor())"
   ]
  },
  {
   "cell_type": "markdown",
   "metadata": {},
   "source": [
    "Conjecture : $x^{2p} + x^p + 1 = \\phi_3(x) \\phi_{3p}(x)$"
   ]
  },
  {
   "cell_type": "markdown",
   "metadata": {},
   "source": [
    "Preuve : \n",
    "\\begin{align*}\n",
    "    \\phi_3(x) \\phi_{3p}(x) &= \\phi_3(X) \\frac{x^{3p} - 1}{\\phi_1(x) \\phi_3(x) \\phi_p(x)} \\\\\n",
    "    &= \\frac{(x-1)(x^p)^3 - 1}{(x-1)(x^p - 1)} \\\\\n",
    "    &= (x^p)^2 + x^p + 1 = x^{2p} + x^p + 1\n",
    "\\end{align*}"
   ]
  }
 ],
 "metadata": {
  "kernelspec": {
   "display_name": "SageMath 8.1",
   "language": "",
   "name": "sagemath"
  },
  "language_info": {
   "codemirror_mode": {
    "name": "ipython",
    "version": 2
   },
   "file_extension": ".py",
   "mimetype": "text/x-python",
   "name": "python",
   "nbconvert_exporter": "python",
   "pygments_lexer": "ipython2",
   "version": "2.7.15rc1"
  }
 },
 "nbformat": 4,
 "nbformat_minor": 2
}
